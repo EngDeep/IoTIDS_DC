{
 "cells": [
  {
   "cell_type": "markdown",
   "metadata": {},
   "source": [
    "\n",
    "<img src= \"https://hbr.org/resources/images/article_assets/2014/10/31Mar14_Groysberg_manage-your-work1.jpg\" width=800 height= 300/>"
   ]
  },
  {
   "cell_type": "markdown",
   "metadata": {},
   "source": [
    "# Problem Introduction\n"
   ]
  },
  {
   "cell_type": "markdown",
   "metadata": {},
   "source": [
    "## Roadmap\n",
    "\n",
    "TThe following steps form the basis for workflow: <br>\n",
    "\n",
    "1- Determine required data <br />\n",
    "2- Acquire the data in an accessible format <br />\n",
    "3- Identify and correct missing data points/anomalies as required <br />\n",
    "4- Prepare the data for the model <br />\n",
    "5- Establish a baseline model that you aim to exceed <br />\n",
    "6- Train the model on the training data <br />\n",
    "7- Make classification on the test data <br />\n",
    "8- Calculate performance metrics <br />\n",
    "9- If performance is not satisfactory, adjust the model, acquire more data, or try a different modeling technique <br />\n",
    "10- Interpret model and report results visually and numerically <br />\n"
   ]
  },
  {
   "cell_type": "markdown",
   "metadata": {
    "ExecuteTime": {
     "end_time": "2019-04-08T16:10:52.732836Z",
     "start_time": "2019-04-08T16:10:52.716815Z"
    }
   },
   "source": [
    "<img src=\"https://venturebeat.com/wp-content/uploads/2018/07/feature_engineering.jpg?resize=680%2C198&strip=all%22\" width=\"700\"/>\n",
    "\n"
   ]
  },
  {
   "cell_type": "markdown",
   "metadata": {},
   "source": [
    "# Data Acquisition\n",
    "\n",
    "\n",
    "\n"
   ]
  },
  {
   "cell_type": "markdown",
   "metadata": {},
   "source": [
    "First, we need some data. So we use the BoT-IoT dataset which was created by designing a realistic network environment in the Cyber Range Lab of The center of UNSW Canberra Cyber, as shown in Figure 1. The dataset includes DDoS, DoS, OS and Service Scan, Keylogging and Data exfiltration attacks, with the DDoS and DoS attacks further organized, based on the protocol used. The data size is approximately 1.07 GB total size, and about 3 million records. The complete data file is available for <a href=\"https://cloudstor.aarnet.edu.au/plus/s/umT99TnxvbpkkoE\">download</a>\n"
   ]
  },
  {
   "cell_type": "markdown",
   "metadata": {},
   "source": [
    "<img src= \"https://www.unsw.adfa.edu.au/unsw-canberra-cyber/cybersecurity/ADFA-NB15-Datasets/img/Bot_Iot_Testbed.png\" width=\"700\"/>\n",
    "\n"
   ]
  },
  {
   "cell_type": "markdown",
   "metadata": {},
   "source": [
    "Following are explanations of the columns:\n",
    "\n",
    "<style type=\"text/css\">\n",
    ".tg  {border-collapse:collapse;border-spacing:0;}\n",
    ".tg td{font-family:Arial, sans-serif;font-size:14px;padding:10px 5px;border-style:solid;border-width:1px;overflow:hidden;word-break:normal;border-color:black;}\n",
    ".tg th{font-family:Arial, sans-serif;font-size:14px;font-weight:normal;padding:10px 5px;border-style:solid;border-width:1px;overflow:hidden;word-break:normal;border-color:black;}\n",
    ".tg .tg-88nc{font-weight:bold;border-color:inherit;text-align:center}\n",
    ".tg .tg-c3ow{border-color:inherit;text-align:center;vertical-align:top}\n",
    ".tg .tg-uys7{border-color:inherit;text-align:center}\n",
    ".tg .tg-7btt{font-weight:bold;border-color:inherit;text-align:center;vertical-align:top}\n",
    "</style>\n",
    "<table class=\"tg\">\n",
    "  <tr>\n",
    "    <th class=\"tg-7btt\"></th>\n",
    "    <th class=\"tg-88nc\">Feature</th>\n",
    "    <th class=\"tg-88nc\">Description</th>\n",
    "  </tr>\n",
    "  <tr>\n",
    "    <td class=\"tg-7btt\">1</td>\n",
    "    <td class=\"tg-uys7\">pkSeqID</td>\n",
    "    <td class=\"tg-uys7\">Row Identifier</td>\n",
    "  </tr>\n",
    "  <tr>\n",
    "    <td class=\"tg-7btt\">2</td>\n",
    "    <td class=\"tg-uys7\">Stime</td>\n",
    "    <td class=\"tg-uys7\">Record start time</td>\n",
    "  </tr>\n",
    "  <tr>\n",
    "    <td class=\"tg-7btt\">3</td>\n",
    "    <td class=\"tg-uys7\">Flgs</td>\n",
    "    <td class=\"tg-uys7\">Flow state flags seen in<br>&nbsp;&nbsp;transactions</td>\n",
    "  </tr>\n",
    "  <tr>\n",
    "    <td class=\"tg-7btt\">4</td>\n",
    "    <td class=\"tg-uys7\">flgs_number</td>\n",
    "    <td class=\"tg-uys7\">Numerical representation of<br>&nbsp;&nbsp;feature flags</td>\n",
    "  </tr>\n",
    "  <tr>\n",
    "    <td class=\"tg-7btt\">5</td>\n",
    "    <td class=\"tg-uys7\">Proto</td>\n",
    "    <td class=\"tg-uys7\">Textual representation of<br>&nbsp;&nbsp;transaction protocols present in network flow</td>\n",
    "  </tr>\n",
    "  <tr>\n",
    "    <td class=\"tg-7btt\">6</td>\n",
    "    <td class=\"tg-uys7\">proto_number</td>\n",
    "    <td class=\"tg-uys7\">Numerical representation of<br>&nbsp;&nbsp;feature proto</td>\n",
    "  </tr>\n",
    "  <tr>\n",
    "    <td class=\"tg-7btt\">7</td>\n",
    "    <td class=\"tg-uys7\">Saddr</td>\n",
    "    <td class=\"tg-uys7\">Source IP address</td>\n",
    "  </tr>\n",
    "  <tr>\n",
    "    <td class=\"tg-7btt\">8</td>\n",
    "    <td class=\"tg-uys7\">Sport</td>\n",
    "    <td class=\"tg-uys7\">Source port number</td>\n",
    "  </tr>\n",
    "  <tr>\n",
    "    <td class=\"tg-7btt\">9</td>\n",
    "    <td class=\"tg-uys7\">Daddr</td>\n",
    "    <td class=\"tg-uys7\">Destination IP address</td>\n",
    "  </tr>\n",
    "  <tr>\n",
    "    <td class=\"tg-7btt\">10</td>\n",
    "    <td class=\"tg-uys7\">Dport</td>\n",
    "    <td class=\"tg-uys7\">Destination port number</td>\n",
    "  </tr>\n",
    "  <tr>\n",
    "    <td class=\"tg-7btt\">11</td>\n",
    "    <td class=\"tg-c3ow\">Pkts</td>\n",
    "    <td class=\"tg-c3ow\">Total count of packets in<br>&nbsp;&nbsp;transaction</td>\n",
    "  </tr>\n",
    "  <tr>\n",
    "    <td class=\"tg-7btt\">12</td>\n",
    "    <td class=\"tg-c3ow\">Bytes</td>\n",
    "    <td class=\"tg-c3ow\">Totan number of bytes in<br>&nbsp;&nbsp;transaction</td>\n",
    "  </tr>\n",
    "  <tr>\n",
    "    <td class=\"tg-7btt\">13</td>\n",
    "    <td class=\"tg-c3ow\">State</td>\n",
    "    <td class=\"tg-c3ow\">Transaction state</td>\n",
    "  </tr>\n",
    "  <tr>\n",
    "    <td class=\"tg-7btt\">14</td>\n",
    "    <td class=\"tg-c3ow\">state_number</td>\n",
    "    <td class=\"tg-c3ow\">Numerical representation of<br>&nbsp;&nbsp;feature state</td>\n",
    "  </tr>\n",
    "  <tr>\n",
    "    <td class=\"tg-7btt\">15</td>\n",
    "    <td class=\"tg-c3ow\">Ltime</td>\n",
    "    <td class=\"tg-c3ow\">Record last time</td>\n",
    "  </tr>\n",
    "  <tr>\n",
    "    <td class=\"tg-7btt\">16</td>\n",
    "    <td class=\"tg-c3ow\">Seq</td>\n",
    "    <td class=\"tg-c3ow\">Argus sequence number</td>\n",
    "  </tr>\n",
    "  <tr>\n",
    "    <td class=\"tg-7btt\">17</td>\n",
    "    <td class=\"tg-c3ow\">Dur</td>\n",
    "    <td class=\"tg-c3ow\">Record total duration</td>\n",
    "  </tr>\n",
    "  <tr>\n",
    "    <td class=\"tg-7btt\">18</td>\n",
    "    <td class=\"tg-c3ow\">Mean</td>\n",
    "    <td class=\"tg-c3ow\">Average duration of aggregated<br>&nbsp;&nbsp;records</td>\n",
    "  </tr>\n",
    "  <tr>\n",
    "    <td class=\"tg-7btt\">19</td>\n",
    "    <td class=\"tg-c3ow\">Stddev</td>\n",
    "    <td class=\"tg-c3ow\">Standard deviation of aggregated<br>&nbsp;&nbsp;records</td>\n",
    "  </tr>\n",
    "  <tr>\n",
    "    <td class=\"tg-7btt\">20</td>\n",
    "    <td class=\"tg-c3ow\">Sum</td>\n",
    "    <td class=\"tg-c3ow\">Total duration of aggregated<br>&nbsp;&nbsp;records</td>\n",
    "  </tr>\n",
    "  <tr>\n",
    "    <td class=\"tg-7btt\">21</td>\n",
    "    <td class=\"tg-c3ow\">Min</td>\n",
    "    <td class=\"tg-c3ow\">Minimum duration of aggregated<br>&nbsp;&nbsp;records</td>\n",
    "  </tr>\n",
    "  <tr>\n",
    "    <td class=\"tg-7btt\">22</td>\n",
    "    <td class=\"tg-c3ow\">Max</td>\n",
    "    <td class=\"tg-c3ow\">Maximum duration of aggregated<br>&nbsp;&nbsp;records</td>\n",
    "  </tr>\n",
    "  <tr>\n",
    "    <td class=\"tg-7btt\">23</td>\n",
    "    <td class=\"tg-c3ow\">Spkts</td>\n",
    "    <td class=\"tg-c3ow\">Source-to-destination packet<br>&nbsp;&nbsp;count</td>\n",
    "  </tr>\n",
    "  <tr>\n",
    "    <td class=\"tg-7btt\">24</td>\n",
    "    <td class=\"tg-c3ow\">Dpkts</td>\n",
    "    <td class=\"tg-c3ow\">Destination-to-source packet<br>&nbsp;&nbsp;count</td>\n",
    "  </tr>\n",
    "  <tr>\n",
    "    <td class=\"tg-7btt\">25</td>\n",
    "    <td class=\"tg-c3ow\">Sbytes</td>\n",
    "    <td class=\"tg-c3ow\">Source-to-destination byte count</td>\n",
    "  </tr>\n",
    "  <tr>\n",
    "    <td class=\"tg-7btt\">26</td>\n",
    "    <td class=\"tg-c3ow\">Dbytes</td>\n",
    "    <td class=\"tg-c3ow\">Destination-to-source byte count</td>\n",
    "  </tr>\n",
    "  <tr>\n",
    "    <td class=\"tg-7btt\">27</td>\n",
    "    <td class=\"tg-c3ow\">Rate</td>\n",
    "    <td class=\"tg-c3ow\">Total packets per second in<br>&nbsp;&nbsp;transaction</td>\n",
    "  </tr>\n",
    "  <tr>\n",
    "    <td class=\"tg-7btt\">28</td>\n",
    "    <td class=\"tg-c3ow\">Srate</td>\n",
    "    <td class=\"tg-c3ow\">Source-to-destination packets<br>&nbsp;&nbsp;per second</td>\n",
    "  </tr>\n",
    "  <tr>\n",
    "    <td class=\"tg-7btt\">29</td>\n",
    "    <td class=\"tg-c3ow\">Drate</td>\n",
    "    <td class=\"tg-c3ow\">Destination-to-source packets<br>&nbsp;&nbsp;per second</td>\n",
    "  </tr>\n",
    "  <tr>\n",
    "    <td class=\"tg-7btt\">30</td>\n",
    "    <td class=\"tg-c3ow\">TnBPSrcIP</td>\n",
    "    <td class=\"tg-c3ow\">Total Number of<br>&nbsp;&nbsp;bytes per source IP</td>\n",
    "  </tr>\n",
    "  <tr>\n",
    "    <td class=\"tg-7btt\">31</td>\n",
    "    <td class=\"tg-c3ow\">TnBPDstIP</td>\n",
    "    <td class=\"tg-c3ow\">Total Number of bytes per<br>&nbsp;&nbsp;Destination IP.</td>\n",
    "  </tr>\n",
    "  <tr>\n",
    "    <td class=\"tg-7btt\">32</td>\n",
    "    <td class=\"tg-c3ow\">TnP_PSrcIP</td>\n",
    "    <td class=\"tg-c3ow\">Total Number of packets per<br>&nbsp;&nbsp;source IP.</td>\n",
    "  </tr>\n",
    "  <tr>\n",
    "    <td class=\"tg-7btt\">33</td>\n",
    "    <td class=\"tg-c3ow\">TnP_PDstIP</td>\n",
    "    <td class=\"tg-c3ow\">Total Number of packets per<br>&nbsp;&nbsp;Destination IP.</td>\n",
    "  </tr>\n",
    "  <tr>\n",
    "    <td class=\"tg-7btt\">34</td>\n",
    "    <td class=\"tg-c3ow\">TnP_PerProto</td>\n",
    "    <td class=\"tg-c3ow\">Total Number of packets per<br>&nbsp;&nbsp;protocol.</td>\n",
    "  </tr>\n",
    "  <tr>\n",
    "    <td class=\"tg-7btt\">35</td>\n",
    "    <td class=\"tg-c3ow\">TnP_Per_Dport</td>\n",
    "    <td class=\"tg-c3ow\">Total Number of packets per<br>&nbsp;&nbsp;dport</td>\n",
    "  </tr>\n",
    "  <tr>\n",
    "    <td class=\"tg-7btt\">36</td>\n",
    "    <td class=\"tg-c3ow\">AR_P_Proto_P_SrcIP</td>\n",
    "    <td class=\"tg-c3ow\">Average rate per protocol per<br>&nbsp;&nbsp;Source IP. (calculated by pkts/dur)</td>\n",
    "  </tr>\n",
    "  <tr>\n",
    "    <td class=\"tg-7btt\">37</td>\n",
    "    <td class=\"tg-c3ow\">AR_P_Proto_P_DstIP</td>\n",
    "    <td class=\"tg-c3ow\">Average rate per protocol per<br>&nbsp;&nbsp;Destination IP.</td>\n",
    "  </tr>\n",
    "  <tr>\n",
    "    <td class=\"tg-7btt\">38</td>\n",
    "    <td class=\"tg-c3ow\">N_IN_Conn_P_SrcIP</td>\n",
    "    <td class=\"tg-c3ow\">Number of inbound connections<br>&nbsp;&nbsp;per source IP.</td>\n",
    "  </tr>\n",
    "  <tr>\n",
    "    <td class=\"tg-7btt\">39</td>\n",
    "    <td class=\"tg-c3ow\">N_IN_Conn_P_DstIP</td>\n",
    "    <td class=\"tg-c3ow\">Number of inbound connections<br>&nbsp;&nbsp;per destination IP.</td>\n",
    "  </tr>\n",
    "  <tr>\n",
    "    <td class=\"tg-7btt\">40</td>\n",
    "    <td class=\"tg-c3ow\">AR_P_Proto_P_Sport</td>\n",
    "    <td class=\"tg-c3ow\">Average rate per protocol per<br>&nbsp;&nbsp;sport</td>\n",
    "  </tr>\n",
    "  <tr>\n",
    "    <td class=\"tg-7btt\">41</td>\n",
    "    <td class=\"tg-c3ow\">AR_P_Proto_P_Dport</td>\n",
    "    <td class=\"tg-c3ow\">Average rate per protocol per<br>&nbsp;&nbsp;dport</td>\n",
    "  </tr>\n",
    "  <tr>\n",
    "    <td class=\"tg-7btt\">42</td>\n",
    "    <td class=\"tg-c3ow\">Pkts_P_State_P_Protocol_P_DestIP</td>\n",
    "    <td class=\"tg-c3ow\">Number of packets grouped by<br>&nbsp;&nbsp;state of flows and protocols per destination IP.</td>\n",
    "  </tr>\n",
    "  <tr>\n",
    "    <td class=\"tg-7btt\">43</td>\n",
    "    <td class=\"tg-c3ow\">Pkts_P_State_P_Protocol_P_SrcIP</td>\n",
    "    <td class=\"tg-c3ow\">Number of packets grouped by<br>&nbsp;&nbsp;state of flows and protocols per source IP.</td>\n",
    "  </tr>\n",
    "  <tr>\n",
    "    <td class=\"tg-7btt\">44</td>\n",
    "    <td class=\"tg-c3ow\">Attack</td>\n",
    "    <td class=\"tg-c3ow\">Class label: 0 for Normal<br>&nbsp;&nbsp;traffic, 1 for Attack Traffic</td>\n",
    "  </tr>\n",
    "  <tr>\n",
    "    <td class=\"tg-7btt\">45</td>\n",
    "    <td class=\"tg-c3ow\">Category</td>\n",
    "    <td class=\"tg-c3ow\">Traffic category</td>\n",
    "  </tr>\n",
    "  <tr>\n",
    "    <td class=\"tg-7btt\">46</td>\n",
    "    <td class=\"tg-c3ow\">Subcategory</td>\n",
    "    <td class=\"tg-c3ow\">Traffic subcategory</td>\n",
    "  </tr>\n",
    "</table>\n",
    "\n",
    "\n"
   ]
  },
  {
   "cell_type": "markdown",
   "metadata": {},
   "source": [
    "# Data Preparation\n",
    "\n",
    "\n"
   ]
  },
  {
   "cell_type": "markdown",
   "metadata": {
    "ExecuteTime": {
     "end_time": "2019-04-11T22:31:31.013939Z",
     "start_time": "2019-04-11T22:31:31.010955Z"
    }
   },
   "source": [
    "## Start Python and Check Versions\n"
   ]
  },
  {
   "cell_type": "code",
   "execution_count": null,
   "metadata": {
    "ExecuteTime": {
     "start_time": "2019-04-12T11:41:33.046Z"
    }
   },
   "outputs": [
    {
     "name": "stdout",
     "output_type": "stream",
     "text": [
      "3.7.1\n",
      "Python: 3.7.1 (default, Dec 10 2018, 22:54:23) [MSC v.1915 64 bit (AMD64)]\n"
     ]
    }
   ],
   "source": [
    "from platform import python_version\n",
    "print(python_version())\n",
    "\n",
    "\n",
    "# Python version\n",
    "import sys\n",
    "print('Python: {}'.format(sys.version))\n",
    "# scipy\n",
    "import scipy\n",
    "print('scipy: {}'.format(scipy.__version__))\n",
    "# numpy\n",
    "import numpy\n",
    "print('numpy: {}'.format(numpy.__version__))\n",
    "# matplotlib\n",
    "import matplotlib\n",
    "print('matplotlib: {}'.format(matplotlib.__version__))\n",
    "# pandas\n",
    "import pandas\n",
    "print('pandas: {}'.format(pandas.__version__))\n",
    "# scikit-learn\n",
    "import sklearn\n",
    "print('sklearn: {}'.format(sklearn.__version__))"
   ]
  },
  {
   "cell_type": "markdown",
   "metadata": {},
   "source": [
    "## Loading required Libraries"
   ]
  },
  {
   "cell_type": "code",
   "execution_count": 1,
   "metadata": {
    "ExecuteTime": {
     "end_time": "2019-04-12T18:35:46.535814Z",
     "start_time": "2019-04-12T18:34:54.170705Z"
    }
   },
   "outputs": [
    {
     "name": "stdout",
     "output_type": "stream",
     "text": [
      "Scikit Learn Version: 0.20.1\n"
     ]
    }
   ],
   "source": [
    "\n",
    "import pandas as pd\n",
    "from pandas.plotting import scatter_matrix\n",
    "\n",
    "\n",
    "# importing sklearn module \n",
    "\n",
    "import sklearn\n",
    "from sklearn.ensemble import IsolationForest\n",
    "from sklearn.decomposition import PCA\n",
    "from sklearn.cluster import KMeans\n",
    "from sklearn.preprocessing import StandardScaler\n",
    "from sklearn.preprocessing import LabelEncoder\n",
    "\n",
    "from sklearn.model_selection import train_test_split\n",
    "from sklearn.linear_model import LinearRegression\n",
    "\n",
    "print('Scikit Learn Version:', sklearn.__version__)\n",
    "\n",
    "# Load libraries\n",
    "import pandas\n",
    "from pandas.plotting import scatter_matrix\n",
    "import matplotlib.pyplot as plt\n",
    "from sklearn import model_selection\n",
    "from sklearn.metrics import classification_report\n",
    "from sklearn.metrics import confusion_matrix\n",
    "from sklearn.metrics import accuracy_score\n",
    "from sklearn.linear_model import LogisticRegression\n",
    "from sklearn.tree import DecisionTreeClassifier\n",
    "from sklearn.neighbors import KNeighborsClassifier\n",
    "from sklearn.discriminant_analysis import LinearDiscriminantAnalysis\n",
    "from sklearn.naive_bayes import GaussianNB\n",
    "from sklearn.svm import SVC\n",
    "\n",
    "\n",
    "# importing matplotlib module \n",
    "\n",
    "import matplotlib.pyplot as plt\n",
    "\n",
    "\n",
    "# importing plotly module \n",
    "\n",
    "import plotly.plotly as py\n",
    "import plotly.graph_objs as go\n",
    "\n"
   ]
  },
  {
   "cell_type": "markdown",
   "metadata": {
    "ExecuteTime": {
     "end_time": "2019-04-11T22:33:00.526022Z",
     "start_time": "2019-04-11T22:33:00.523027Z"
    }
   },
   "source": [
    "##  Load Dataset"
   ]
  },
  {
   "cell_type": "markdown",
   "metadata": {},
   "source": [
    "The following Python code loads in the csv data and displays the structure of the data:"
   ]
  },
  {
   "cell_type": "code",
   "execution_count": null,
   "metadata": {
    "ExecuteTime": {
     "end_time": "2019-04-11T14:07:54.085265Z",
     "start_time": "2019-04-11T14:07:54.056249Z"
    }
   },
   "outputs": [],
   "source": [
    "# Saving the Pandas Sample\n",
    "\n",
    "df.sample(50000, random_state=1111).to_csv('data.csv')\n",
    "\n",
    "print('files save')"
   ]
  },
  {
   "cell_type": "code",
   "execution_count": 3,
   "metadata": {
    "ExecuteTime": {
     "end_time": "2019-04-12T18:36:03.897256Z",
     "start_time": "2019-04-12T18:36:02.306085Z"
    }
   },
   "outputs": [
    {
     "name": "stdout",
     "output_type": "stream",
     "text": [
      "Read in 50000 Rows...\n"
     ]
    }
   ],
   "source": [
    "#reading the sample file\n",
    "df = pd.read_csv(r'C:\\Users\\WinDpows\\data.csv')\n",
    "\n",
    "print('Read in {:d} Rows...'.format(len(df)))"
   ]
  },
  {
   "cell_type": "markdown",
   "metadata": {},
   "source": [
    "## Summarize the Dataset\n"
   ]
  },
  {
   "cell_type": "markdown",
   "metadata": {},
   "source": [
    "Now it is time to take a look at the data.\n",
    "\n",
    "In this step we are going to take a look at the data a few different ways:<br />\n",
    "- Dimensions of the dataset. <br />\n",
    "- Peek at the data itself. <br />\n",
    "- Statistical summary of all attributes. <br />\n",
    "- Breakdown of the data by the class variable. <br />"
   ]
  },
  {
   "cell_type": "markdown",
   "metadata": {},
   "source": [
    "### Dimensions of Dataset"
   ]
  },
  {
   "cell_type": "markdown",
   "metadata": {},
   "source": [
    "We can get a quick idea of how many instances (rows) and how many attributes (columns) the data contains with the shape property."
   ]
  },
  {
   "cell_type": "code",
   "execution_count": 109,
   "metadata": {
    "ExecuteTime": {
     "end_time": "2019-04-12T06:27:10.785922Z",
     "start_time": "2019-04-12T06:27:10.782942Z"
    }
   },
   "outputs": [
    {
     "name": "stdout",
     "output_type": "stream",
     "text": [
      "(50000, 44)\n"
     ]
    }
   ],
   "source": [
    "\n",
    "# shape\n",
    "print(df.shape)"
   ]
  },
  {
   "cell_type": "code",
   "execution_count": 110,
   "metadata": {
    "ExecuteTime": {
     "end_time": "2019-04-12T06:27:46.905973Z",
     "start_time": "2019-04-12T06:27:46.887947Z"
    }
   },
   "outputs": [
    {
     "data": {
      "text/html": [
       "<div>\n",
       "<style scoped>\n",
       "    .dataframe tbody tr th:only-of-type {\n",
       "        vertical-align: middle;\n",
       "    }\n",
       "\n",
       "    .dataframe tbody tr th {\n",
       "        vertical-align: top;\n",
       "    }\n",
       "\n",
       "    .dataframe thead th {\n",
       "        text-align: right;\n",
       "    }\n",
       "</style>\n",
       "<table border=\"1\" class=\"dataframe\">\n",
       "  <thead>\n",
       "    <tr style=\"text-align: right;\">\n",
       "      <th></th>\n",
       "      <th>Unnamed: 0</th>\n",
       "      <th>pkSeqID</th>\n",
       "      <th>stime</th>\n",
       "      <th>flgs_number</th>\n",
       "      <th>proto_number</th>\n",
       "      <th>saddr</th>\n",
       "      <th>sport</th>\n",
       "      <th>daddr</th>\n",
       "      <th>dport</th>\n",
       "      <th>pkts</th>\n",
       "      <th>...</th>\n",
       "      <th>AR_P_Proto_P_SrcIP</th>\n",
       "      <th>AR_P_Proto_P_DstIP</th>\n",
       "      <th>N_IN_Conn_P_DstIP</th>\n",
       "      <th>N_IN_Conn_P_SrcIP</th>\n",
       "      <th>AR_P_Proto_P_Sport</th>\n",
       "      <th>AR_P_Proto_P_Dport</th>\n",
       "      <th>Pkts_P_State_P_Protocol_P_DestIP</th>\n",
       "      <th>Pkts_P_State_P_Protocol_P_SrcIP</th>\n",
       "      <th>category</th>\n",
       "      <th>subcategory</th>\n",
       "    </tr>\n",
       "  </thead>\n",
       "  <tbody>\n",
       "    <tr>\n",
       "      <th>0</th>\n",
       "      <td>533840</td>\n",
       "      <td>3533841</td>\n",
       "      <td>1528099368</td>\n",
       "      <td>1</td>\n",
       "      <td>3</td>\n",
       "      <td>1</td>\n",
       "      <td>13674</td>\n",
       "      <td>11</td>\n",
       "      <td>2158</td>\n",
       "      <td>14</td>\n",
       "      <td>...</td>\n",
       "      <td>1.076660</td>\n",
       "      <td>1.076660</td>\n",
       "      <td>100</td>\n",
       "      <td>100</td>\n",
       "      <td>1.082860</td>\n",
       "      <td>1.076660</td>\n",
       "      <td>1392</td>\n",
       "      <td>1392</td>\n",
       "      <td>0</td>\n",
       "      <td>5</td>\n",
       "    </tr>\n",
       "    <tr>\n",
       "      <th>1</th>\n",
       "      <td>276804</td>\n",
       "      <td>3276805</td>\n",
       "      <td>1528099353</td>\n",
       "      <td>1</td>\n",
       "      <td>3</td>\n",
       "      <td>1</td>\n",
       "      <td>12364</td>\n",
       "      <td>11</td>\n",
       "      <td>2158</td>\n",
       "      <td>15</td>\n",
       "      <td>...</td>\n",
       "      <td>1.074120</td>\n",
       "      <td>1.074120</td>\n",
       "      <td>100</td>\n",
       "      <td>100</td>\n",
       "      <td>1.074210</td>\n",
       "      <td>1.074120</td>\n",
       "      <td>1500</td>\n",
       "      <td>1500</td>\n",
       "      <td>0</td>\n",
       "      <td>5</td>\n",
       "    </tr>\n",
       "    <tr>\n",
       "      <th>2</th>\n",
       "      <td>264136</td>\n",
       "      <td>3264137</td>\n",
       "      <td>1528099353</td>\n",
       "      <td>1</td>\n",
       "      <td>3</td>\n",
       "      <td>1</td>\n",
       "      <td>8718</td>\n",
       "      <td>11</td>\n",
       "      <td>2158</td>\n",
       "      <td>14</td>\n",
       "      <td>...</td>\n",
       "      <td>1.045260</td>\n",
       "      <td>1.045260</td>\n",
       "      <td>100</td>\n",
       "      <td>100</td>\n",
       "      <td>1.003020</td>\n",
       "      <td>1.045260</td>\n",
       "      <td>1459</td>\n",
       "      <td>1459</td>\n",
       "      <td>0</td>\n",
       "      <td>5</td>\n",
       "    </tr>\n",
       "    <tr>\n",
       "      <th>3</th>\n",
       "      <td>352918</td>\n",
       "      <td>3352919</td>\n",
       "      <td>1528099354</td>\n",
       "      <td>1</td>\n",
       "      <td>3</td>\n",
       "      <td>4</td>\n",
       "      <td>26147</td>\n",
       "      <td>11</td>\n",
       "      <td>2158</td>\n",
       "      <td>7</td>\n",
       "      <td>...</td>\n",
       "      <td>0.572246</td>\n",
       "      <td>0.725507</td>\n",
       "      <td>100</td>\n",
       "      <td>20</td>\n",
       "      <td>0.572246</td>\n",
       "      <td>0.725507</td>\n",
       "      <td>869</td>\n",
       "      <td>140</td>\n",
       "      <td>0</td>\n",
       "      <td>5</td>\n",
       "    </tr>\n",
       "    <tr>\n",
       "      <th>4</th>\n",
       "      <td>395075</td>\n",
       "      <td>3395076</td>\n",
       "      <td>1528099354</td>\n",
       "      <td>1</td>\n",
       "      <td>3</td>\n",
       "      <td>3</td>\n",
       "      <td>5971</td>\n",
       "      <td>11</td>\n",
       "      <td>2158</td>\n",
       "      <td>7</td>\n",
       "      <td>...</td>\n",
       "      <td>0.565388</td>\n",
       "      <td>0.567088</td>\n",
       "      <td>100</td>\n",
       "      <td>76</td>\n",
       "      <td>0.565388</td>\n",
       "      <td>0.567088</td>\n",
       "      <td>700</td>\n",
       "      <td>532</td>\n",
       "      <td>0</td>\n",
       "      <td>5</td>\n",
       "    </tr>\n",
       "  </tbody>\n",
       "</table>\n",
       "<p>5 rows × 44 columns</p>\n",
       "</div>"
      ],
      "text/plain": [
       "   Unnamed: 0  pkSeqID       stime  flgs_number  proto_number  saddr  sport  \\\n",
       "0      533840  3533841  1528099368            1             3      1  13674   \n",
       "1      276804  3276805  1528099353            1             3      1  12364   \n",
       "2      264136  3264137  1528099353            1             3      1   8718   \n",
       "3      352918  3352919  1528099354            1             3      4  26147   \n",
       "4      395075  3395076  1528099354            1             3      3   5971   \n",
       "\n",
       "   daddr  dport  pkts     ...       AR_P_Proto_P_SrcIP  AR_P_Proto_P_DstIP  \\\n",
       "0     11   2158    14     ...                 1.076660            1.076660   \n",
       "1     11   2158    15     ...                 1.074120            1.074120   \n",
       "2     11   2158    14     ...                 1.045260            1.045260   \n",
       "3     11   2158     7     ...                 0.572246            0.725507   \n",
       "4     11   2158     7     ...                 0.565388            0.567088   \n",
       "\n",
       "   N_IN_Conn_P_DstIP  N_IN_Conn_P_SrcIP  AR_P_Proto_P_Sport  \\\n",
       "0                100                100            1.082860   \n",
       "1                100                100            1.074210   \n",
       "2                100                100            1.003020   \n",
       "3                100                 20            0.572246   \n",
       "4                100                 76            0.565388   \n",
       "\n",
       "   AR_P_Proto_P_Dport  Pkts_P_State_P_Protocol_P_DestIP  \\\n",
       "0            1.076660                              1392   \n",
       "1            1.074120                              1500   \n",
       "2            1.045260                              1459   \n",
       "3            0.725507                               869   \n",
       "4            0.567088                               700   \n",
       "\n",
       "   Pkts_P_State_P_Protocol_P_SrcIP  category  subcategory  \n",
       "0                             1392         0            5  \n",
       "1                             1500         0            5  \n",
       "2                             1459         0            5  \n",
       "3                              140         0            5  \n",
       "4                              532         0            5  \n",
       "\n",
       "[5 rows x 44 columns]"
      ]
     },
     "execution_count": 110,
     "metadata": {},
     "output_type": "execute_result"
    }
   ],
   "source": [
    "df.head()"
   ]
  },
  {
   "cell_type": "code",
   "execution_count": 9,
   "metadata": {
    "ExecuteTime": {
     "end_time": "2019-04-12T11:47:13.798910Z",
     "start_time": "2019-04-12T11:47:13.791896Z"
    },
    "scrolled": true
   },
   "outputs": [
    {
     "data": {
      "text/plain": [
       "Unnamed: 0                            int64\n",
       "pkSeqID                               int64\n",
       "stime                                 int64\n",
       "flgs                                 object\n",
       "flgs_number                           int64\n",
       "proto                                object\n",
       "proto_number                          int64\n",
       "saddr                                object\n",
       "sport                                object\n",
       "daddr                                object\n",
       "dport                                object\n",
       "pkts                                  int64\n",
       "bytes                                 int64\n",
       "state                                object\n",
       "state_number                          int64\n",
       "ltime                                 int64\n",
       "seq                                   int64\n",
       "dur                                 float64\n",
       "mean                                float64\n",
       "stddev                              float64\n",
       "sum                                 float64\n",
       "min                                 float64\n",
       "max                                 float64\n",
       "spkts                                 int64\n",
       "dpkts                                 int64\n",
       "sbytes                                int64\n",
       "dbytes                                int64\n",
       "rate                                float64\n",
       "srate                               float64\n",
       "drate                               float64\n",
       "TnBPSrcIP                             int64\n",
       "TnBPDstIP                             int64\n",
       "TnP_PSrcIP                            int64\n",
       "TnP_PDstIP                            int64\n",
       "TnP_PerProto                          int64\n",
       "TnP_Per_Dport                         int64\n",
       "AR_P_Proto_P_SrcIP                  float64\n",
       "AR_P_Proto_P_DstIP                  float64\n",
       "N_IN_Conn_P_DstIP                     int64\n",
       "N_IN_Conn_P_SrcIP                     int64\n",
       "AR_P_Proto_P_Sport                  float64\n",
       "AR_P_Proto_P_Dport                  float64\n",
       "Pkts_P_State_P_Protocol_P_DestIP      int64\n",
       "Pkts_P_State_P_Protocol_P_SrcIP       int64\n",
       "category                             object\n",
       "subcategory                          object\n",
       "attack                                int64\n",
       "dtype: object"
      ]
     },
     "execution_count": 9,
     "metadata": {},
     "output_type": "execute_result"
    }
   ],
   "source": [
    "df.dtypes"
   ]
  },
  {
   "cell_type": "markdown",
   "metadata": {},
   "source": [
    "### Identify Missing Data\n",
    "\n",
    "\n",
    "\n"
   ]
  },
  {
   "cell_type": "code",
   "execution_count": 10,
   "metadata": {
    "ExecuteTime": {
     "end_time": "2019-04-12T11:47:19.569253Z",
     "start_time": "2019-04-12T11:47:19.240199Z"
    }
   },
   "outputs": [
    {
     "data": {
      "text/plain": [
       "Unnamed: 0                          0\n",
       "pkSeqID                             0\n",
       "stime                               0\n",
       "flgs                                0\n",
       "flgs_number                         0\n",
       "proto                               0\n",
       "proto_number                        0\n",
       "saddr                               0\n",
       "sport                               0\n",
       "daddr                               0\n",
       "dport                               0\n",
       "pkts                                0\n",
       "bytes                               0\n",
       "state                               0\n",
       "state_number                        0\n",
       "ltime                               0\n",
       "seq                                 0\n",
       "dur                                 0\n",
       "mean                                0\n",
       "stddev                              0\n",
       "sum                                 0\n",
       "min                                 0\n",
       "max                                 0\n",
       "spkts                               0\n",
       "dpkts                               0\n",
       "sbytes                              0\n",
       "dbytes                              0\n",
       "rate                                0\n",
       "srate                               0\n",
       "drate                               0\n",
       "TnBPSrcIP                           0\n",
       "TnBPDstIP                           0\n",
       "TnP_PSrcIP                          0\n",
       "TnP_PDstIP                          0\n",
       "TnP_PerProto                        0\n",
       "TnP_Per_Dport                       0\n",
       "AR_P_Proto_P_SrcIP                  0\n",
       "AR_P_Proto_P_DstIP                  0\n",
       "N_IN_Conn_P_DstIP                   0\n",
       "N_IN_Conn_P_SrcIP                   0\n",
       "AR_P_Proto_P_Sport                  0\n",
       "AR_P_Proto_P_Dport                  0\n",
       "Pkts_P_State_P_Protocol_P_DestIP    0\n",
       "Pkts_P_State_P_Protocol_P_SrcIP     0\n",
       "category                            0\n",
       "subcategory                         0\n",
       "attack                              0\n",
       "dtype: int64"
      ]
     },
     "execution_count": 10,
     "metadata": {},
     "output_type": "execute_result"
    }
   ],
   "source": [
    "# checking the percentage of missing values in each variable\n",
    "df.isnull().sum()/len(df)*100\n",
    "df.isnull().sum()\n"
   ]
  },
  {
   "cell_type": "markdown",
   "metadata": {},
   "source": [
    "### Statistical Summary"
   ]
  },
  {
   "cell_type": "markdown",
   "metadata": {},
   "source": [
    "Now we can take a look at a summary of each attribute. This includes the count, mean, the min and max values as well as some percentiles."
   ]
  },
  {
   "cell_type": "code",
   "execution_count": 113,
   "metadata": {
    "ExecuteTime": {
     "end_time": "2019-04-12T06:29:27.638608Z",
     "start_time": "2019-04-12T06:29:27.304163Z"
    }
   },
   "outputs": [
    {
     "data": {
      "text/html": [
       "<div>\n",
       "<style scoped>\n",
       "    .dataframe tbody tr th:only-of-type {\n",
       "        vertical-align: middle;\n",
       "    }\n",
       "\n",
       "    .dataframe tbody tr th {\n",
       "        vertical-align: top;\n",
       "    }\n",
       "\n",
       "    .dataframe thead th {\n",
       "        text-align: right;\n",
       "    }\n",
       "</style>\n",
       "<table border=\"1\" class=\"dataframe\">\n",
       "  <thead>\n",
       "    <tr style=\"text-align: right;\">\n",
       "      <th></th>\n",
       "      <th>Unnamed: 0</th>\n",
       "      <th>pkSeqID</th>\n",
       "      <th>stime</th>\n",
       "      <th>flgs_number</th>\n",
       "      <th>proto_number</th>\n",
       "      <th>saddr</th>\n",
       "      <th>sport</th>\n",
       "      <th>daddr</th>\n",
       "      <th>dport</th>\n",
       "      <th>pkts</th>\n",
       "      <th>...</th>\n",
       "      <th>AR_P_Proto_P_SrcIP</th>\n",
       "      <th>AR_P_Proto_P_DstIP</th>\n",
       "      <th>N_IN_Conn_P_DstIP</th>\n",
       "      <th>N_IN_Conn_P_SrcIP</th>\n",
       "      <th>AR_P_Proto_P_Sport</th>\n",
       "      <th>AR_P_Proto_P_Dport</th>\n",
       "      <th>Pkts_P_State_P_Protocol_P_DestIP</th>\n",
       "      <th>Pkts_P_State_P_Protocol_P_SrcIP</th>\n",
       "      <th>category</th>\n",
       "      <th>subcategory</th>\n",
       "    </tr>\n",
       "  </thead>\n",
       "  <tbody>\n",
       "    <tr>\n",
       "      <th>count</th>\n",
       "      <td>50000.000000</td>\n",
       "      <td>5.000000e+04</td>\n",
       "      <td>5.000000e+04</td>\n",
       "      <td>50000.000000</td>\n",
       "      <td>50000.000000</td>\n",
       "      <td>50000.000000</td>\n",
       "      <td>50000.000000</td>\n",
       "      <td>50000.000000</td>\n",
       "      <td>50000.000000</td>\n",
       "      <td>50000.000000</td>\n",
       "      <td>...</td>\n",
       "      <td>5.000000e+04</td>\n",
       "      <td>50000.000000</td>\n",
       "      <td>50000.000000</td>\n",
       "      <td>50000.000000</td>\n",
       "      <td>5.000000e+04</td>\n",
       "      <td>5.000000e+04</td>\n",
       "      <td>50000.000000</td>\n",
       "      <td>50000.00000</td>\n",
       "      <td>50000.000000</td>\n",
       "      <td>50000.000000</td>\n",
       "    </tr>\n",
       "    <tr>\n",
       "      <th>mean</th>\n",
       "      <td>333469.643420</td>\n",
       "      <td>3.333471e+06</td>\n",
       "      <td>1.527878e+09</td>\n",
       "      <td>1.089580</td>\n",
       "      <td>2.818380</td>\n",
       "      <td>2.495440</td>\n",
       "      <td>16646.403900</td>\n",
       "      <td>11.018360</td>\n",
       "      <td>2034.060340</td>\n",
       "      <td>11.456500</td>\n",
       "      <td>...</td>\n",
       "      <td>1.869732e+03</td>\n",
       "      <td>1580.051723</td>\n",
       "      <td>97.742960</td>\n",
       "      <td>82.037520</td>\n",
       "      <td>2.525281e+03</td>\n",
       "      <td>3.297997e+03</td>\n",
       "      <td>924.508120</td>\n",
       "      <td>779.84838</td>\n",
       "      <td>0.268480</td>\n",
       "      <td>4.836800</td>\n",
       "    </tr>\n",
       "    <tr>\n",
       "      <th>std</th>\n",
       "      <td>192530.314238</td>\n",
       "      <td>1.925303e+05</td>\n",
       "      <td>5.671444e+05</td>\n",
       "      <td>0.651862</td>\n",
       "      <td>0.609329</td>\n",
       "      <td>1.261908</td>\n",
       "      <td>9530.200945</td>\n",
       "      <td>0.715062</td>\n",
       "      <td>393.058081</td>\n",
       "      <td>340.392773</td>\n",
       "      <td>...</td>\n",
       "      <td>1.973025e+04</td>\n",
       "      <td>10066.949093</td>\n",
       "      <td>12.305981</td>\n",
       "      <td>26.129695</td>\n",
       "      <td>3.210861e+04</td>\n",
       "      <td>4.394377e+04</td>\n",
       "      <td>715.733123</td>\n",
       "      <td>586.89913</td>\n",
       "      <td>0.681651</td>\n",
       "      <td>0.443226</td>\n",
       "    </tr>\n",
       "    <tr>\n",
       "      <th>min</th>\n",
       "      <td>17.000000</td>\n",
       "      <td>3.000018e+06</td>\n",
       "      <td>1.526344e+09</td>\n",
       "      <td>1.000000</td>\n",
       "      <td>1.000000</td>\n",
       "      <td>0.000000</td>\n",
       "      <td>0.000000</td>\n",
       "      <td>0.000000</td>\n",
       "      <td>0.000000</td>\n",
       "      <td>1.000000</td>\n",
       "      <td>...</td>\n",
       "      <td>0.000000e+00</td>\n",
       "      <td>0.000000</td>\n",
       "      <td>1.000000</td>\n",
       "      <td>1.000000</td>\n",
       "      <td>0.000000e+00</td>\n",
       "      <td>0.000000e+00</td>\n",
       "      <td>1.000000</td>\n",
       "      <td>1.00000</td>\n",
       "      <td>0.000000</td>\n",
       "      <td>0.000000</td>\n",
       "    </tr>\n",
       "    <tr>\n",
       "      <th>25%</th>\n",
       "      <td>166684.250000</td>\n",
       "      <td>3.166685e+06</td>\n",
       "      <td>1.528099e+09</td>\n",
       "      <td>1.000000</td>\n",
       "      <td>3.000000</td>\n",
       "      <td>1.000000</td>\n",
       "      <td>8608.000000</td>\n",
       "      <td>11.000000</td>\n",
       "      <td>2158.000000</td>\n",
       "      <td>7.000000</td>\n",
       "      <td>...</td>\n",
       "      <td>5.654530e-01</td>\n",
       "      <td>0.575546</td>\n",
       "      <td>100.000000</td>\n",
       "      <td>69.000000</td>\n",
       "      <td>5.722780e-01</td>\n",
       "      <td>5.754950e-01</td>\n",
       "      <td>700.000000</td>\n",
       "      <td>483.00000</td>\n",
       "      <td>0.000000</td>\n",
       "      <td>5.000000</td>\n",
       "    </tr>\n",
       "    <tr>\n",
       "      <th>50%</th>\n",
       "      <td>332548.000000</td>\n",
       "      <td>3.332549e+06</td>\n",
       "      <td>1.528099e+09</td>\n",
       "      <td>1.000000</td>\n",
       "      <td>3.000000</td>\n",
       "      <td>2.000000</td>\n",
       "      <td>16727.500000</td>\n",
       "      <td>11.000000</td>\n",
       "      <td>2158.000000</td>\n",
       "      <td>8.000000</td>\n",
       "      <td>...</td>\n",
       "      <td>7.973760e-01</td>\n",
       "      <td>0.796435</td>\n",
       "      <td>100.000000</td>\n",
       "      <td>100.000000</td>\n",
       "      <td>7.978420e-01</td>\n",
       "      <td>7.963330e-01</td>\n",
       "      <td>908.000000</td>\n",
       "      <td>700.00000</td>\n",
       "      <td>0.000000</td>\n",
       "      <td>5.000000</td>\n",
       "    </tr>\n",
       "    <tr>\n",
       "      <th>75%</th>\n",
       "      <td>500752.000000</td>\n",
       "      <td>3.500753e+06</td>\n",
       "      <td>1.528099e+09</td>\n",
       "      <td>1.000000</td>\n",
       "      <td>3.000000</td>\n",
       "      <td>4.000000</td>\n",
       "      <td>24861.250000</td>\n",
       "      <td>11.000000</td>\n",
       "      <td>2158.000000</td>\n",
       "      <td>13.000000</td>\n",
       "      <td>...</td>\n",
       "      <td>1.074260e+00</td>\n",
       "      <td>1.037580</td>\n",
       "      <td>100.000000</td>\n",
       "      <td>100.000000</td>\n",
       "      <td>1.074610e+00</td>\n",
       "      <td>1.034020e+00</td>\n",
       "      <td>1216.000000</td>\n",
       "      <td>1100.00000</td>\n",
       "      <td>0.000000</td>\n",
       "      <td>5.000000</td>\n",
       "    </tr>\n",
       "    <tr>\n",
       "      <th>max</th>\n",
       "      <td>668521.000000</td>\n",
       "      <td>3.668522e+06</td>\n",
       "      <td>1.529381e+09</td>\n",
       "      <td>7.000000</td>\n",
       "      <td>5.000000</td>\n",
       "      <td>12.000000</td>\n",
       "      <td>33180.000000</td>\n",
       "      <td>28.000000</td>\n",
       "      <td>2376.000000</td>\n",
       "      <td>70057.000000</td>\n",
       "      <td>...</td>\n",
       "      <td>2.714290e+06</td>\n",
       "      <td>583333.000000</td>\n",
       "      <td>100.000000</td>\n",
       "      <td>100.000000</td>\n",
       "      <td>2.000000e+06</td>\n",
       "      <td>2.000000e+06</td>\n",
       "      <td>103159.000000</td>\n",
       "      <td>70057.00000</td>\n",
       "      <td>3.000000</td>\n",
       "      <td>5.000000</td>\n",
       "    </tr>\n",
       "  </tbody>\n",
       "</table>\n",
       "<p>8 rows × 44 columns</p>\n",
       "</div>"
      ],
      "text/plain": [
       "          Unnamed: 0       pkSeqID         stime   flgs_number  proto_number  \\\n",
       "count   50000.000000  5.000000e+04  5.000000e+04  50000.000000  50000.000000   \n",
       "mean   333469.643420  3.333471e+06  1.527878e+09      1.089580      2.818380   \n",
       "std    192530.314238  1.925303e+05  5.671444e+05      0.651862      0.609329   \n",
       "min        17.000000  3.000018e+06  1.526344e+09      1.000000      1.000000   \n",
       "25%    166684.250000  3.166685e+06  1.528099e+09      1.000000      3.000000   \n",
       "50%    332548.000000  3.332549e+06  1.528099e+09      1.000000      3.000000   \n",
       "75%    500752.000000  3.500753e+06  1.528099e+09      1.000000      3.000000   \n",
       "max    668521.000000  3.668522e+06  1.529381e+09      7.000000      5.000000   \n",
       "\n",
       "              saddr         sport         daddr         dport          pkts  \\\n",
       "count  50000.000000  50000.000000  50000.000000  50000.000000  50000.000000   \n",
       "mean       2.495440  16646.403900     11.018360   2034.060340     11.456500   \n",
       "std        1.261908   9530.200945      0.715062    393.058081    340.392773   \n",
       "min        0.000000      0.000000      0.000000      0.000000      1.000000   \n",
       "25%        1.000000   8608.000000     11.000000   2158.000000      7.000000   \n",
       "50%        2.000000  16727.500000     11.000000   2158.000000      8.000000   \n",
       "75%        4.000000  24861.250000     11.000000   2158.000000     13.000000   \n",
       "max       12.000000  33180.000000     28.000000   2376.000000  70057.000000   \n",
       "\n",
       "           ...       AR_P_Proto_P_SrcIP  AR_P_Proto_P_DstIP  \\\n",
       "count      ...             5.000000e+04        50000.000000   \n",
       "mean       ...             1.869732e+03         1580.051723   \n",
       "std        ...             1.973025e+04        10066.949093   \n",
       "min        ...             0.000000e+00            0.000000   \n",
       "25%        ...             5.654530e-01            0.575546   \n",
       "50%        ...             7.973760e-01            0.796435   \n",
       "75%        ...             1.074260e+00            1.037580   \n",
       "max        ...             2.714290e+06       583333.000000   \n",
       "\n",
       "       N_IN_Conn_P_DstIP  N_IN_Conn_P_SrcIP  AR_P_Proto_P_Sport  \\\n",
       "count       50000.000000       50000.000000        5.000000e+04   \n",
       "mean           97.742960          82.037520        2.525281e+03   \n",
       "std            12.305981          26.129695        3.210861e+04   \n",
       "min             1.000000           1.000000        0.000000e+00   \n",
       "25%           100.000000          69.000000        5.722780e-01   \n",
       "50%           100.000000         100.000000        7.978420e-01   \n",
       "75%           100.000000         100.000000        1.074610e+00   \n",
       "max           100.000000         100.000000        2.000000e+06   \n",
       "\n",
       "       AR_P_Proto_P_Dport  Pkts_P_State_P_Protocol_P_DestIP  \\\n",
       "count        5.000000e+04                      50000.000000   \n",
       "mean         3.297997e+03                        924.508120   \n",
       "std          4.394377e+04                        715.733123   \n",
       "min          0.000000e+00                          1.000000   \n",
       "25%          5.754950e-01                        700.000000   \n",
       "50%          7.963330e-01                        908.000000   \n",
       "75%          1.034020e+00                       1216.000000   \n",
       "max          2.000000e+06                     103159.000000   \n",
       "\n",
       "       Pkts_P_State_P_Protocol_P_SrcIP      category   subcategory  \n",
       "count                      50000.00000  50000.000000  50000.000000  \n",
       "mean                         779.84838      0.268480      4.836800  \n",
       "std                          586.89913      0.681651      0.443226  \n",
       "min                            1.00000      0.000000      0.000000  \n",
       "25%                          483.00000      0.000000      5.000000  \n",
       "50%                          700.00000      0.000000      5.000000  \n",
       "75%                         1100.00000      0.000000      5.000000  \n",
       "max                        70057.00000      3.000000      5.000000  \n",
       "\n",
       "[8 rows x 44 columns]"
      ]
     },
     "execution_count": 113,
     "metadata": {},
     "output_type": "execute_result"
    }
   ],
   "source": [
    "df.describe()"
   ]
  },
  {
   "cell_type": "markdown",
   "metadata": {},
   "source": [
    "# Data Visualizations\n"
   ]
  },
  {
   "cell_type": "markdown",
   "metadata": {
    "ExecuteTime": {
     "end_time": "2019-04-12T06:36:18.847362Z",
     "start_time": "2019-04-12T06:36:18.843375Z"
    }
   },
   "source": [
    "We are going to look at two types of plots: <br />\n",
    "\n",
    "- Univariate plots to better understand each attribute. <br />\n",
    "- Multivariate plots to better understand the relationships between attributes. <br />"
   ]
  },
  {
   "cell_type": "markdown",
   "metadata": {},
   "source": [
    "## Univariate Plots"
   ]
  },
  {
   "cell_type": "code",
   "execution_count": null,
   "metadata": {
    "ExecuteTime": {
     "start_time": "2019-04-12T19:10:48.032Z"
    }
   },
   "outputs": [],
   "source": [
    " \n",
    "# box and whisker plots\n",
    "df.plot(kind='box', subplots=True, layout=(432,288), sharex=False, sharey=False)\n",
    "plt.show()\n"
   ]
  },
  {
   "cell_type": "markdown",
   "metadata": {},
   "source": [
    "We can also create a histogram of each input variable to get an idea of the distribution.\n",
    "\n"
   ]
  },
  {
   "cell_type": "code",
   "execution_count": 18,
   "metadata": {
    "ExecuteTime": {
     "end_time": "2019-04-12T19:07:36.010699Z",
     "start_time": "2019-04-12T19:07:31.363901Z"
    }
   },
   "outputs": [
    {
     "data": {
      "image/png": "[encoded data removed]",
      "text/plain": [
       "<Figure size 1080x1440 with 49 Axes>"
      ]
     },
     "metadata": {
      "needs_background": "light"
     },
     "output_type": "display_data"
    }
   ],
   "source": [
    "\n",
    "# histograms\n",
    "df.hist(figsize = (15,20))\n",
    "plt.show()\n"
   ]
  },
  {
   "cell_type": "markdown",
   "metadata": {
    "ExecuteTime": {
     "start_time": "2019-04-12T06:40:25.365Z"
    }
   },
   "source": [
    "## Multivariate Plots"
   ]
  },
  {
   "cell_type": "markdown",
   "metadata": {},
   "source": [
    "Now we can look at the interactions between the variables.\n",
    "\n",
    "First, let’s look at scatterplots of all pairs of attributes. This can be helpful to spot structured relationships between input variables."
   ]
  },
  {
   "cell_type": "code",
   "execution_count": null,
   "metadata": {},
   "outputs": [],
   "source": [
    "# scatter plot matrix\n",
    "scatter_matrix(dataset)\n",
    "plt.show()"
   ]
  },
  {
   "cell_type": "markdown",
   "metadata": {
    "ExecuteTime": {
     "end_time": "2019-04-08T17:38:46.121377Z",
     "start_time": "2019-04-08T17:38:46.118376Z"
    }
   },
   "source": [
    "### Correlation\n"
   ]
  },
  {
   "cell_type": "markdown",
   "metadata": {},
   "source": [
    "The correlation coefficient, or simply the correlation, is an index that ranges from -1 to 1. When the value is near zero, there is no linear relationship. As the correlation gets closer to plus or minus one, the relationship is stronger. A value of one (or negative one) indicates a perfect linear relationship between two variables."
   ]
  },
  {
   "cell_type": "code",
   "execution_count": null,
   "metadata": {
    "ExecuteTime": {
     "end_time": "2019-04-10T22:58:56.125113Z",
     "start_time": "2019-04-10T22:58:55.759854Z"
    }
   },
   "outputs": [],
   "source": [
    "#find the correlation between the variables in the dataset.\n",
    "\n",
    "\n",
    "df.corr()"
   ]
  },
  {
   "cell_type": "markdown",
   "metadata": {},
   "source": [
    "### Pearson correlation.\n",
    "\n",
    "The correlation coefficient has values between -1 to 1 <br />\n",
    " — A value closer to 0 implies weaker correlation (exact 0 implying no correlation) <br />\n",
    " — A value closer to 1 implies stronger positive correlation <br />\n",
    " — A value closer to -1 implies stronger negative correlation <br />\n",
    "    \n",
    "    We will only select features which has correlation of above 0.5 (taking absolute value) with the output variable."
   ]
  },
  {
   "cell_type": "code",
   "execution_count": null,
   "metadata": {
    "ExecuteTime": {
     "end_time": "2019-04-10T22:49:15.116197Z",
     "start_time": "2019-04-10T22:49:07.900082Z"
    }
   },
   "outputs": [],
   "source": [
    "#Using Pearson Correlation\n",
    "plt.figure(figsize=(70,40))\n",
    "cor = df.corr()\n",
    "sns.heatmap(cor, annot=True, cmap=plt.cm.Reds)\n",
    "plt.show()"
   ]
  },
  {
   "cell_type": "code",
   "execution_count": null,
   "metadata": {
    "ExecuteTime": {
     "end_time": "2019-04-10T22:55:58.041954Z",
     "start_time": "2019-04-10T22:55:58.034935Z"
    }
   },
   "outputs": [],
   "source": [
    "#Correlation with output variable\n",
    "cor_target = abs(cor[\"attack\"])\n",
    "#Selecting highly correlated features\n",
    "relevant_features = cor_target[cor_target>0.5]\n",
    "relevant_features"
   ]
  },
  {
   "cell_type": "markdown",
   "metadata": {},
   "source": [
    "As we can see, only the features TnP_PerProto    which represent the , PTRATIO and LSTAT are highly correlated with the output variable"
   ]
  },
  {
   "cell_type": "markdown",
   "metadata": {},
   "source": [
    "## Handling Categorical Data in Python\n"
   ]
  },
  {
   "cell_type": "markdown",
   "metadata": {},
   "source": [
    "### General Exploration steps for Categorical Data\n"
   ]
  },
  {
   "cell_type": "markdown",
   "metadata": {},
   "source": [
    "As you will only be dealing with categorical features, it's better to filter them out. You can create a separate DataFrame consisting of only these features by running the following command. The method .copy() is used here so that any changes made in new DataFrame don't get reflected in the original one."
   ]
  },
  {
   "cell_type": "code",
   "execution_count": 7,
   "metadata": {
    "ExecuteTime": {
     "end_time": "2019-04-11T19:07:45.291309Z",
     "start_time": "2019-04-11T19:07:45.270309Z"
    }
   },
   "outputs": [],
   "source": [
    "cat_df = df.select_dtypes(include=['object']).copy()\n"
   ]
  },
  {
   "cell_type": "code",
   "execution_count": 9,
   "metadata": {
    "ExecuteTime": {
     "end_time": "2019-04-11T19:07:46.888481Z",
     "start_time": "2019-04-11T19:07:46.859446Z"
    }
   },
   "outputs": [
    {
     "name": "stdout",
     "output_type": "stream",
     "text": [
      "0\n"
     ]
    }
   ],
   "source": [
    "#check for null values in the dataset. You can get the total number of missing values in the DataFrame by the following one liner code\n",
    "print(cat_df.isnull().values.sum())\n"
   ]
  },
  {
   "cell_type": "markdown",
   "metadata": {},
   "source": [
    "Another Exploratory Data Analysis (EDA) step that you might want to do on categorical features is the frequency distribution of categories within the feature, which can be done with the .value_counts()"
   ]
  },
  {
   "cell_type": "code",
   "execution_count": 10,
   "metadata": {
    "ExecuteTime": {
     "end_time": "2019-04-11T19:07:49.906087Z",
     "start_time": "2019-04-11T19:07:49.844043Z"
    }
   },
   "outputs": [
    {
     "name": "stdout",
     "output_type": "stream",
     "text": [
      "e      48965\n",
      "eU       850\n",
      "e s      165\n",
      "e g       10\n",
      "e d        9\n",
      "e &        1\n",
      "Name: flgs, dtype: int64\n"
     ]
    }
   ],
   "source": [
    "print(cat_df['flgs'].value_counts())\n"
   ]
  },
  {
   "cell_type": "markdown",
   "metadata": {},
   "source": [
    "To know the count of distinct categories within the feature you can chain the previous code with the .count() method:"
   ]
  },
  {
   "cell_type": "code",
   "execution_count": 11,
   "metadata": {
    "ExecuteTime": {
     "end_time": "2019-04-11T19:07:54.206228Z",
     "start_time": "2019-04-11T19:07:54.097164Z"
    }
   },
   "outputs": [
    {
     "name": "stdout",
     "output_type": "stream",
     "text": [
      "6\n",
      "5\n",
      "13\n",
      "33181\n",
      "29\n",
      "2377\n",
      "9\n",
      "4\n",
      "6\n"
     ]
    }
   ],
   "source": [
    "print(df['flgs'].value_counts().count())\n",
    "print(df['proto'].value_counts().count())\n",
    "print(df['saddr'].value_counts().count())\n",
    "print(df['sport'].value_counts().count())\n",
    "print(df['daddr'].value_counts().count())\n",
    "print(df['dport'].value_counts().count())\n",
    "print(df['state'].value_counts().count())\n",
    "print(df['category'].value_counts().count())\n",
    "print(df['subcategory'].value_counts().count())\n",
    "\n",
    "\n",
    "\n"
   ]
  },
  {
   "cell_type": "markdown",
   "metadata": {},
   "source": [
    "### Visual Exploration"
   ]
  },
  {
   "cell_type": "markdown",
   "metadata": {},
   "source": [
    "isual exploration is the most effective way to extract information between variables.\n",
    "\n",
    "Below is a basic template to plot a barplot of the frequency distribution of a categorical feature using the seaborn package, which shows the frequency distribution of the sport column."
   ]
  },
  {
   "cell_type": "code",
   "execution_count": null,
   "metadata": {
    "ExecuteTime": {
     "start_time": "2019-04-11T19:07:57.359Z"
    }
   },
   "outputs": [
    {
     "ename": "KeyboardInterrupt",
     "evalue": "",
     "output_type": "error",
     "traceback": [
      "\u001b[1;31m---------------------------------------------------------------------------\u001b[0m",
      "\u001b[1;31mKeyboardInterrupt\u001b[0m                         Traceback (most recent call last)",
      "\u001b[1;32m<ipython-input-12-5c0212a51fbd>\u001b[0m in \u001b[0;36m<module>\u001b[1;34m\u001b[0m\n\u001b[0;32m      4\u001b[0m \u001b[0mcarrier_count\u001b[0m \u001b[1;33m=\u001b[0m \u001b[0mcat_df\u001b[0m\u001b[1;33m[\u001b[0m\u001b[1;34m'sport'\u001b[0m\u001b[1;33m]\u001b[0m\u001b[1;33m.\u001b[0m\u001b[0mvalue_counts\u001b[0m\u001b[1;33m(\u001b[0m\u001b[1;33m)\u001b[0m\u001b[1;33m\u001b[0m\u001b[1;33m\u001b[0m\u001b[0m\n\u001b[0;32m      5\u001b[0m \u001b[0msns\u001b[0m\u001b[1;33m.\u001b[0m\u001b[0mset\u001b[0m\u001b[1;33m(\u001b[0m\u001b[0mstyle\u001b[0m\u001b[1;33m=\u001b[0m\u001b[1;34m\"darkgrid\"\u001b[0m\u001b[1;33m)\u001b[0m\u001b[1;33m\u001b[0m\u001b[1;33m\u001b[0m\u001b[0m\n\u001b[1;32m----> 6\u001b[1;33m \u001b[0msns\u001b[0m\u001b[1;33m.\u001b[0m\u001b[0mbarplot\u001b[0m\u001b[1;33m(\u001b[0m\u001b[0mcarrier_count\u001b[0m\u001b[1;33m.\u001b[0m\u001b[0mindex\u001b[0m\u001b[1;33m,\u001b[0m \u001b[0mcarrier_count\u001b[0m\u001b[1;33m.\u001b[0m\u001b[0mvalues\u001b[0m\u001b[1;33m,\u001b[0m \u001b[0malpha\u001b[0m\u001b[1;33m=\u001b[0m\u001b[1;36m0.9\u001b[0m\u001b[1;33m)\u001b[0m\u001b[1;33m\u001b[0m\u001b[1;33m\u001b[0m\u001b[0m\n\u001b[0m\u001b[0;32m      7\u001b[0m \u001b[0mplt\u001b[0m\u001b[1;33m.\u001b[0m\u001b[0mtitle\u001b[0m\u001b[1;33m(\u001b[0m\u001b[1;34m'Frequency Distribution of Carriers'\u001b[0m\u001b[1;33m)\u001b[0m\u001b[1;33m\u001b[0m\u001b[1;33m\u001b[0m\u001b[0m\n\u001b[0;32m      8\u001b[0m \u001b[0mplt\u001b[0m\u001b[1;33m.\u001b[0m\u001b[0mylabel\u001b[0m\u001b[1;33m(\u001b[0m\u001b[1;34m'Number of Occurrences'\u001b[0m\u001b[1;33m,\u001b[0m \u001b[0mfontsize\u001b[0m\u001b[1;33m=\u001b[0m\u001b[1;36m12\u001b[0m\u001b[1;33m)\u001b[0m\u001b[1;33m\u001b[0m\u001b[1;33m\u001b[0m\u001b[0m\n",
      "\u001b[1;32m~\\Anaconda31\\lib\\site-packages\\seaborn\\categorical.py\u001b[0m in \u001b[0;36mbarplot\u001b[1;34m(x, y, hue, data, order, hue_order, estimator, ci, n_boot, units, orient, color, palette, saturation, errcolor, errwidth, capsize, dodge, ax, **kwargs)\u001b[0m\n\u001b[0;32m   3152\u001b[0m         \u001b[0max\u001b[0m \u001b[1;33m=\u001b[0m \u001b[0mplt\u001b[0m\u001b[1;33m.\u001b[0m\u001b[0mgca\u001b[0m\u001b[1;33m(\u001b[0m\u001b[1;33m)\u001b[0m\u001b[1;33m\u001b[0m\u001b[1;33m\u001b[0m\u001b[0m\n\u001b[0;32m   3153\u001b[0m \u001b[1;33m\u001b[0m\u001b[0m\n\u001b[1;32m-> 3154\u001b[1;33m     \u001b[0mplotter\u001b[0m\u001b[1;33m.\u001b[0m\u001b[0mplot\u001b[0m\u001b[1;33m(\u001b[0m\u001b[0max\u001b[0m\u001b[1;33m,\u001b[0m \u001b[0mkwargs\u001b[0m\u001b[1;33m)\u001b[0m\u001b[1;33m\u001b[0m\u001b[1;33m\u001b[0m\u001b[0m\n\u001b[0m\u001b[0;32m   3155\u001b[0m     \u001b[1;32mreturn\u001b[0m \u001b[0max\u001b[0m\u001b[1;33m\u001b[0m\u001b[1;33m\u001b[0m\u001b[0m\n\u001b[0;32m   3156\u001b[0m \u001b[1;33m\u001b[0m\u001b[0m\n",
      "\u001b[1;32m~\\Anaconda31\\lib\\site-packages\\seaborn\\categorical.py\u001b[0m in \u001b[0;36mplot\u001b[1;34m(self, ax, bar_kws)\u001b[0m\n\u001b[0;32m   1659\u001b[0m     \u001b[1;32mdef\u001b[0m \u001b[0mplot\u001b[0m\u001b[1;33m(\u001b[0m\u001b[0mself\u001b[0m\u001b[1;33m,\u001b[0m \u001b[0max\u001b[0m\u001b[1;33m,\u001b[0m \u001b[0mbar_kws\u001b[0m\u001b[1;33m)\u001b[0m\u001b[1;33m:\u001b[0m\u001b[1;33m\u001b[0m\u001b[1;33m\u001b[0m\u001b[0m\n\u001b[0;32m   1660\u001b[0m         \u001b[1;34m\"\"\"Make the plot.\"\"\"\u001b[0m\u001b[1;33m\u001b[0m\u001b[1;33m\u001b[0m\u001b[0m\n\u001b[1;32m-> 1661\u001b[1;33m         \u001b[0mself\u001b[0m\u001b[1;33m.\u001b[0m\u001b[0mdraw_bars\u001b[0m\u001b[1;33m(\u001b[0m\u001b[0max\u001b[0m\u001b[1;33m,\u001b[0m \u001b[0mbar_kws\u001b[0m\u001b[1;33m)\u001b[0m\u001b[1;33m\u001b[0m\u001b[1;33m\u001b[0m\u001b[0m\n\u001b[0m\u001b[0;32m   1662\u001b[0m         \u001b[0mself\u001b[0m\u001b[1;33m.\u001b[0m\u001b[0mannotate_axes\u001b[0m\u001b[1;33m(\u001b[0m\u001b[0max\u001b[0m\u001b[1;33m)\u001b[0m\u001b[1;33m\u001b[0m\u001b[1;33m\u001b[0m\u001b[0m\n\u001b[0;32m   1663\u001b[0m         \u001b[1;32mif\u001b[0m \u001b[0mself\u001b[0m\u001b[1;33m.\u001b[0m\u001b[0morient\u001b[0m \u001b[1;33m==\u001b[0m \u001b[1;34m\"h\"\u001b[0m\u001b[1;33m:\u001b[0m\u001b[1;33m\u001b[0m\u001b[1;33m\u001b[0m\u001b[0m\n",
      "\u001b[1;32m~\\Anaconda31\\lib\\site-packages\\seaborn\\categorical.py\u001b[0m in \u001b[0;36mdraw_bars\u001b[1;34m(self, ax, kws)\u001b[0m\n\u001b[0;32m   1634\u001b[0m                                \u001b[0merrcolors\u001b[0m\u001b[1;33m,\u001b[0m\u001b[1;33m\u001b[0m\u001b[1;33m\u001b[0m\u001b[0m\n\u001b[0;32m   1635\u001b[0m                                \u001b[0mself\u001b[0m\u001b[1;33m.\u001b[0m\u001b[0merrwidth\u001b[0m\u001b[1;33m,\u001b[0m\u001b[1;33m\u001b[0m\u001b[1;33m\u001b[0m\u001b[0m\n\u001b[1;32m-> 1636\u001b[1;33m                                self.capsize)\n\u001b[0m\u001b[0;32m   1637\u001b[0m \u001b[1;33m\u001b[0m\u001b[0m\n\u001b[0;32m   1638\u001b[0m         \u001b[1;32melse\u001b[0m\u001b[1;33m:\u001b[0m\u001b[1;33m\u001b[0m\u001b[1;33m\u001b[0m\u001b[0m\n",
      "\u001b[1;32m~\\Anaconda31\\lib\\site-packages\\seaborn\\categorical.py\u001b[0m in \u001b[0;36mdraw_confints\u001b[1;34m(self, ax, at_group, confint, colors, errwidth, capsize, **kws)\u001b[0m\n\u001b[0;32m   1579\u001b[0m                                                 colors):\n\u001b[0;32m   1580\u001b[0m             \u001b[1;32mif\u001b[0m \u001b[0mself\u001b[0m\u001b[1;33m.\u001b[0m\u001b[0morient\u001b[0m \u001b[1;33m==\u001b[0m \u001b[1;34m\"v\"\u001b[0m\u001b[1;33m:\u001b[0m\u001b[1;33m\u001b[0m\u001b[1;33m\u001b[0m\u001b[0m\n\u001b[1;32m-> 1581\u001b[1;33m                 \u001b[0max\u001b[0m\u001b[1;33m.\u001b[0m\u001b[0mplot\u001b[0m\u001b[1;33m(\u001b[0m\u001b[1;33m[\u001b[0m\u001b[0mat\u001b[0m\u001b[1;33m,\u001b[0m \u001b[0mat\u001b[0m\u001b[1;33m]\u001b[0m\u001b[1;33m,\u001b[0m \u001b[1;33m[\u001b[0m\u001b[0mci_low\u001b[0m\u001b[1;33m,\u001b[0m \u001b[0mci_high\u001b[0m\u001b[1;33m]\u001b[0m\u001b[1;33m,\u001b[0m \u001b[0mcolor\u001b[0m\u001b[1;33m=\u001b[0m\u001b[0mcolor\u001b[0m\u001b[1;33m,\u001b[0m \u001b[1;33m**\u001b[0m\u001b[0mkws\u001b[0m\u001b[1;33m)\u001b[0m\u001b[1;33m\u001b[0m\u001b[1;33m\u001b[0m\u001b[0m\n\u001b[0m\u001b[0;32m   1582\u001b[0m                 \u001b[1;32mif\u001b[0m \u001b[0mcapsize\u001b[0m \u001b[1;32mis\u001b[0m \u001b[1;32mnot\u001b[0m \u001b[1;32mNone\u001b[0m\u001b[1;33m:\u001b[0m\u001b[1;33m\u001b[0m\u001b[1;33m\u001b[0m\u001b[0m\n\u001b[0;32m   1583\u001b[0m                     ax.plot([at - capsize / 2, at + capsize / 2],\n",
      "\u001b[1;32m~\\Anaconda31\\lib\\site-packages\\matplotlib\\__init__.py\u001b[0m in \u001b[0;36minner\u001b[1;34m(ax, data, *args, **kwargs)\u001b[0m\n\u001b[0;32m   1808\u001b[0m                         \u001b[1;34m\"the Matplotlib list!)\"\u001b[0m \u001b[1;33m%\u001b[0m \u001b[1;33m(\u001b[0m\u001b[0mlabel_namer\u001b[0m\u001b[1;33m,\u001b[0m \u001b[0mfunc\u001b[0m\u001b[1;33m.\u001b[0m\u001b[0m__name__\u001b[0m\u001b[1;33m)\u001b[0m\u001b[1;33m,\u001b[0m\u001b[1;33m\u001b[0m\u001b[1;33m\u001b[0m\u001b[0m\n\u001b[0;32m   1809\u001b[0m                         RuntimeWarning, stacklevel=2)\n\u001b[1;32m-> 1810\u001b[1;33m             \u001b[1;32mreturn\u001b[0m \u001b[0mfunc\u001b[0m\u001b[1;33m(\u001b[0m\u001b[0max\u001b[0m\u001b[1;33m,\u001b[0m \u001b[1;33m*\u001b[0m\u001b[0margs\u001b[0m\u001b[1;33m,\u001b[0m \u001b[1;33m**\u001b[0m\u001b[0mkwargs\u001b[0m\u001b[1;33m)\u001b[0m\u001b[1;33m\u001b[0m\u001b[1;33m\u001b[0m\u001b[0m\n\u001b[0m\u001b[0;32m   1811\u001b[0m \u001b[1;33m\u001b[0m\u001b[0m\n\u001b[0;32m   1812\u001b[0m         inner.__doc__ = _add_data_doc(inner.__doc__,\n",
      "\u001b[1;32m~\\Anaconda31\\lib\\site-packages\\matplotlib\\axes\\_axes.py\u001b[0m in \u001b[0;36mplot\u001b[1;34m(self, scalex, scaley, *args, **kwargs)\u001b[0m\n\u001b[0;32m   1613\u001b[0m             \u001b[0mlines\u001b[0m\u001b[1;33m.\u001b[0m\u001b[0mappend\u001b[0m\u001b[1;33m(\u001b[0m\u001b[0mline\u001b[0m\u001b[1;33m)\u001b[0m\u001b[1;33m\u001b[0m\u001b[1;33m\u001b[0m\u001b[0m\n\u001b[0;32m   1614\u001b[0m \u001b[1;33m\u001b[0m\u001b[0m\n\u001b[1;32m-> 1615\u001b[1;33m         \u001b[0mself\u001b[0m\u001b[1;33m.\u001b[0m\u001b[0mautoscale_view\u001b[0m\u001b[1;33m(\u001b[0m\u001b[0mscalex\u001b[0m\u001b[1;33m=\u001b[0m\u001b[0mscalex\u001b[0m\u001b[1;33m,\u001b[0m \u001b[0mscaley\u001b[0m\u001b[1;33m=\u001b[0m\u001b[0mscaley\u001b[0m\u001b[1;33m)\u001b[0m\u001b[1;33m\u001b[0m\u001b[1;33m\u001b[0m\u001b[0m\n\u001b[0m\u001b[0;32m   1616\u001b[0m         \u001b[1;32mreturn\u001b[0m \u001b[0mlines\u001b[0m\u001b[1;33m\u001b[0m\u001b[1;33m\u001b[0m\u001b[0m\n\u001b[0;32m   1617\u001b[0m \u001b[1;33m\u001b[0m\u001b[0m\n",
      "\u001b[1;32m~\\Anaconda31\\lib\\site-packages\\matplotlib\\axes\\_base.py\u001b[0m in \u001b[0;36mautoscale_view\u001b[1;34m(self, tight, scalex, scaley)\u001b[0m\n\u001b[0;32m   2427\u001b[0m             \u001b[0mx_stickies\u001b[0m \u001b[1;33m=\u001b[0m \u001b[0msum\u001b[0m\u001b[1;33m(\u001b[0m\u001b[1;33m[\u001b[0m\u001b[0msticky\u001b[0m\u001b[1;33m.\u001b[0m\u001b[0mx\u001b[0m \u001b[1;32mfor\u001b[0m \u001b[0msticky\u001b[0m \u001b[1;32min\u001b[0m \u001b[0mstickies\u001b[0m\u001b[1;33m]\u001b[0m\u001b[1;33m,\u001b[0m \u001b[1;33m[\u001b[0m\u001b[1;33m]\u001b[0m\u001b[1;33m)\u001b[0m\u001b[1;33m\u001b[0m\u001b[1;33m\u001b[0m\u001b[0m\n\u001b[0;32m   2428\u001b[0m             \u001b[0my_stickies\u001b[0m \u001b[1;33m=\u001b[0m \u001b[0msum\u001b[0m\u001b[1;33m(\u001b[0m\u001b[1;33m[\u001b[0m\u001b[0msticky\u001b[0m\u001b[1;33m.\u001b[0m\u001b[0my\u001b[0m \u001b[1;32mfor\u001b[0m \u001b[0msticky\u001b[0m \u001b[1;32min\u001b[0m \u001b[0mstickies\u001b[0m\u001b[1;33m]\u001b[0m\u001b[1;33m,\u001b[0m \u001b[1;33m[\u001b[0m\u001b[1;33m]\u001b[0m\u001b[1;33m)\u001b[0m\u001b[1;33m\u001b[0m\u001b[1;33m\u001b[0m\u001b[0m\n\u001b[1;32m-> 2429\u001b[1;33m             \u001b[1;32mif\u001b[0m \u001b[0mself\u001b[0m\u001b[1;33m.\u001b[0m\u001b[0mget_xscale\u001b[0m\u001b[1;33m(\u001b[0m\u001b[1;33m)\u001b[0m\u001b[1;33m.\u001b[0m\u001b[0mlower\u001b[0m\u001b[1;33m(\u001b[0m\u001b[1;33m)\u001b[0m \u001b[1;33m==\u001b[0m \u001b[1;34m'log'\u001b[0m\u001b[1;33m:\u001b[0m\u001b[1;33m\u001b[0m\u001b[1;33m\u001b[0m\u001b[0m\n\u001b[0m\u001b[0;32m   2430\u001b[0m                 \u001b[0mx_stickies\u001b[0m \u001b[1;33m=\u001b[0m \u001b[1;33m[\u001b[0m\u001b[0mxs\u001b[0m \u001b[1;32mfor\u001b[0m \u001b[0mxs\u001b[0m \u001b[1;32min\u001b[0m \u001b[0mx_stickies\u001b[0m \u001b[1;32mif\u001b[0m \u001b[0mxs\u001b[0m \u001b[1;33m>\u001b[0m \u001b[1;36m0\u001b[0m\u001b[1;33m]\u001b[0m\u001b[1;33m\u001b[0m\u001b[1;33m\u001b[0m\u001b[0m\n\u001b[0;32m   2431\u001b[0m             \u001b[1;32mif\u001b[0m \u001b[0mself\u001b[0m\u001b[1;33m.\u001b[0m\u001b[0mget_yscale\u001b[0m\u001b[1;33m(\u001b[0m\u001b[1;33m)\u001b[0m\u001b[1;33m.\u001b[0m\u001b[0mlower\u001b[0m\u001b[1;33m(\u001b[0m\u001b[1;33m)\u001b[0m \u001b[1;33m==\u001b[0m \u001b[1;34m'log'\u001b[0m\u001b[1;33m:\u001b[0m\u001b[1;33m\u001b[0m\u001b[1;33m\u001b[0m\u001b[0m\n",
      "\u001b[1;31mKeyboardInterrupt\u001b[0m: "
     ]
    }
   ],
   "source": [
    "%matplotlib inline\n",
    "import seaborn as sns\n",
    "import matplotlib.pyplot as plt\n",
    "carrier_count = cat_df['sport'].value_counts()\n",
    "sns.set(style=\"darkgrid\")\n",
    "sns.barplot(carrier_count.index, carrier_count.values, alpha=0.9)\n",
    "plt.title('Frequency Distribution of Carriers')\n",
    "plt.ylabel('Number of Occurrences', fontsize=12)\n",
    "plt.xlabel('sport', fontsize=12)\n",
    "plt.show()"
   ]
  },
  {
   "cell_type": "markdown",
   "metadata": {},
   "source": [
    "imilarly, you could plot a pie chart with the matplotlib library to get the same information. The labels list below holds the category names from the subcategory column"
   ]
  },
  {
   "cell_type": "code",
   "execution_count": null,
   "metadata": {
    "ExecuteTime": {
     "start_time": "2019-04-11T19:08:08.457Z"
    }
   },
   "outputs": [],
   "source": [
    "labels = cat_df['subcategory'].astype('category').cat.categories.tolist()\n",
    "counts = cat_df['subcategory'].value_counts()\n",
    "sizes = [counts[var_cat] for var_cat in labels]\n",
    "fig1, ax1 = plt.subplots()\n",
    "ax1.pie(sizes, labels=labels, autopct='%1.1f%%', shadow=True) #autopct is show the % on plot\n",
    "ax1.axis('equal')\n",
    "plt.show()"
   ]
  },
  {
   "cell_type": "markdown",
   "metadata": {},
   "source": [
    "## Encoding Categorical Data\n"
   ]
  },
  {
   "cell_type": "markdown",
   "metadata": {},
   "source": [
    "### One-Hot Encoding\n"
   ]
  },
  {
   "cell_type": "markdown",
   "metadata": {},
   "source": [
    "\n",
    "One hot encoding takes this: \n",
    "<img src= \"https://nbviewer.jupyter.org/github/SuperCowPowers/scp-labs/blob/master/notebooks/images/transformers.png\" width=\"300\"  align=\"right\"/>\n",
    "\n",
    "\n",
    "\n",
    "| week |\n",
    "|------|\n",
    "| Mon  |\n",
    "| Tue  |\n",
    "| Wed  |\n",
    "| Thu  |\n",
    "| Fri  |\n",
    "\n",
    "\n",
    "\n",
    "and converts it into:\n",
    "\n",
    "| Mon | Tue | Wed | Thu | Fri |\n",
    "|-----|-----|-----|-----|-----|\n",
    "| 1   | 0   | 0   | 0   | 0   |\n",
    "| 0   | 1   | 0   | 0   | 0   |\n",
    "| 0   | 0   | 1   | 0   | 0   |\n",
    "| 0   | 0   | 0   | 1   | 0   |\n",
    "| 0   | 0   | 0   | 0   | 1   |\n"
   ]
  },
  {
   "cell_type": "code",
   "execution_count": null,
   "metadata": {
    "ExecuteTime": {
     "end_time": "2019-04-10T00:35:55.377691Z",
     "start_time": "2019-04-10T00:35:55.148529Z"
    }
   },
   "outputs": [],
   "source": [
    "\n",
    "from sklearn.preprocessing import OneHotEncoder\n",
    "\n",
    "onehotencoder = OneHotEncoder(categorical_features=[13])\n",
    "df = onehotencoder.fit_transform(df).toarray()\n",
    "\n",
    "\n"
   ]
  },
  {
   "cell_type": "code",
   "execution_count": null,
   "metadata": {
    "ExecuteTime": {
     "end_time": "2019-04-10T00:21:48.120598Z",
     "start_time": "2019-04-10T00:21:48.100583Z"
    }
   },
   "outputs": [],
   "source": [
    "df.head()"
   ]
  },
  {
   "cell_type": "code",
   "execution_count": null,
   "metadata": {
    "ExecuteTime": {
     "end_time": "2019-04-11T14:08:51.043202Z",
     "start_time": "2019-04-11T14:08:51.032197Z"
    }
   },
   "outputs": [],
   "source": [
    "df.dtypes"
   ]
  },
  {
   "cell_type": "markdown",
   "metadata": {},
   "source": [
    "## Label Encoder\n"
   ]
  },
  {
   "cell_type": "code",
   "execution_count": 16,
   "metadata": {
    "ExecuteTime": {
     "end_time": "2019-04-12T19:06:53.376775Z",
     "start_time": "2019-04-12T19:06:53.293702Z"
    }
   },
   "outputs": [
    {
     "name": "stdout",
     "output_type": "stream",
     "text": [
      " The two columns are droped\n"
     ]
    }
   ],
   "source": [
    "# delete columns using the columns parameter of drop\n",
    "df = df.drop(columns=\"flgs\")\n",
    "df = df.drop(columns=\"proto\")\n",
    "\n",
    "print(\" The two columns are droped\")\n",
    "\n"
   ]
  },
  {
   "cell_type": "code",
   "execution_count": 17,
   "metadata": {
    "ExecuteTime": {
     "end_time": "2019-04-12T19:06:55.464666Z",
     "start_time": "2019-04-12T19:06:55.353571Z"
    }
   },
   "outputs": [
    {
     "data": {
      "text/html": [
       "<div>\n",
       "<style scoped>\n",
       "    .dataframe tbody tr th:only-of-type {\n",
       "        vertical-align: middle;\n",
       "    }\n",
       "\n",
       "    .dataframe tbody tr th {\n",
       "        vertical-align: top;\n",
       "    }\n",
       "\n",
       "    .dataframe thead th {\n",
       "        text-align: right;\n",
       "    }\n",
       "</style>\n",
       "<table border=\"1\" class=\"dataframe\">\n",
       "  <thead>\n",
       "    <tr style=\"text-align: right;\">\n",
       "      <th></th>\n",
       "      <th>Unnamed: 0</th>\n",
       "      <th>pkSeqID</th>\n",
       "      <th>stime</th>\n",
       "      <th>flgs_number</th>\n",
       "      <th>proto_number</th>\n",
       "      <th>saddr</th>\n",
       "      <th>sport</th>\n",
       "      <th>daddr</th>\n",
       "      <th>dport</th>\n",
       "      <th>pkts</th>\n",
       "      <th>...</th>\n",
       "      <th>AR_P_Proto_P_DstIP</th>\n",
       "      <th>N_IN_Conn_P_DstIP</th>\n",
       "      <th>N_IN_Conn_P_SrcIP</th>\n",
       "      <th>AR_P_Proto_P_Sport</th>\n",
       "      <th>AR_P_Proto_P_Dport</th>\n",
       "      <th>Pkts_P_State_P_Protocol_P_DestIP</th>\n",
       "      <th>Pkts_P_State_P_Protocol_P_SrcIP</th>\n",
       "      <th>category</th>\n",
       "      <th>subcategory</th>\n",
       "      <th>attack</th>\n",
       "    </tr>\n",
       "  </thead>\n",
       "  <tbody>\n",
       "    <tr>\n",
       "      <th>0</th>\n",
       "      <td>533840</td>\n",
       "      <td>3533841</td>\n",
       "      <td>1528099368</td>\n",
       "      <td>1</td>\n",
       "      <td>3</td>\n",
       "      <td>1</td>\n",
       "      <td>13674</td>\n",
       "      <td>11</td>\n",
       "      <td>2158</td>\n",
       "      <td>14</td>\n",
       "      <td>...</td>\n",
       "      <td>1.076660</td>\n",
       "      <td>100</td>\n",
       "      <td>100</td>\n",
       "      <td>1.082860</td>\n",
       "      <td>1.076660</td>\n",
       "      <td>1392</td>\n",
       "      <td>1392</td>\n",
       "      <td>0</td>\n",
       "      <td>5</td>\n",
       "      <td>1</td>\n",
       "    </tr>\n",
       "    <tr>\n",
       "      <th>1</th>\n",
       "      <td>276804</td>\n",
       "      <td>3276805</td>\n",
       "      <td>1528099353</td>\n",
       "      <td>1</td>\n",
       "      <td>3</td>\n",
       "      <td>1</td>\n",
       "      <td>12364</td>\n",
       "      <td>11</td>\n",
       "      <td>2158</td>\n",
       "      <td>15</td>\n",
       "      <td>...</td>\n",
       "      <td>1.074120</td>\n",
       "      <td>100</td>\n",
       "      <td>100</td>\n",
       "      <td>1.074210</td>\n",
       "      <td>1.074120</td>\n",
       "      <td>1500</td>\n",
       "      <td>1500</td>\n",
       "      <td>0</td>\n",
       "      <td>5</td>\n",
       "      <td>1</td>\n",
       "    </tr>\n",
       "    <tr>\n",
       "      <th>2</th>\n",
       "      <td>264136</td>\n",
       "      <td>3264137</td>\n",
       "      <td>1528099353</td>\n",
       "      <td>1</td>\n",
       "      <td>3</td>\n",
       "      <td>1</td>\n",
       "      <td>8718</td>\n",
       "      <td>11</td>\n",
       "      <td>2158</td>\n",
       "      <td>14</td>\n",
       "      <td>...</td>\n",
       "      <td>1.045260</td>\n",
       "      <td>100</td>\n",
       "      <td>100</td>\n",
       "      <td>1.003020</td>\n",
       "      <td>1.045260</td>\n",
       "      <td>1459</td>\n",
       "      <td>1459</td>\n",
       "      <td>0</td>\n",
       "      <td>5</td>\n",
       "      <td>1</td>\n",
       "    </tr>\n",
       "    <tr>\n",
       "      <th>3</th>\n",
       "      <td>352918</td>\n",
       "      <td>3352919</td>\n",
       "      <td>1528099354</td>\n",
       "      <td>1</td>\n",
       "      <td>3</td>\n",
       "      <td>4</td>\n",
       "      <td>26147</td>\n",
       "      <td>11</td>\n",
       "      <td>2158</td>\n",
       "      <td>7</td>\n",
       "      <td>...</td>\n",
       "      <td>0.725507</td>\n",
       "      <td>100</td>\n",
       "      <td>20</td>\n",
       "      <td>0.572246</td>\n",
       "      <td>0.725507</td>\n",
       "      <td>869</td>\n",
       "      <td>140</td>\n",
       "      <td>0</td>\n",
       "      <td>5</td>\n",
       "      <td>1</td>\n",
       "    </tr>\n",
       "    <tr>\n",
       "      <th>4</th>\n",
       "      <td>395075</td>\n",
       "      <td>3395076</td>\n",
       "      <td>1528099354</td>\n",
       "      <td>1</td>\n",
       "      <td>3</td>\n",
       "      <td>3</td>\n",
       "      <td>5971</td>\n",
       "      <td>11</td>\n",
       "      <td>2158</td>\n",
       "      <td>7</td>\n",
       "      <td>...</td>\n",
       "      <td>0.567088</td>\n",
       "      <td>100</td>\n",
       "      <td>76</td>\n",
       "      <td>0.565388</td>\n",
       "      <td>0.567088</td>\n",
       "      <td>700</td>\n",
       "      <td>532</td>\n",
       "      <td>0</td>\n",
       "      <td>5</td>\n",
       "      <td>1</td>\n",
       "    </tr>\n",
       "    <tr>\n",
       "      <th>5</th>\n",
       "      <td>196783</td>\n",
       "      <td>3196784</td>\n",
       "      <td>1528099353</td>\n",
       "      <td>1</td>\n",
       "      <td>3</td>\n",
       "      <td>2</td>\n",
       "      <td>19596</td>\n",
       "      <td>11</td>\n",
       "      <td>2158</td>\n",
       "      <td>11</td>\n",
       "      <td>...</td>\n",
       "      <td>0.953630</td>\n",
       "      <td>100</td>\n",
       "      <td>30</td>\n",
       "      <td>0.796507</td>\n",
       "      <td>0.953630</td>\n",
       "      <td>1327</td>\n",
       "      <td>330</td>\n",
       "      <td>0</td>\n",
       "      <td>5</td>\n",
       "      <td>1</td>\n",
       "    </tr>\n",
       "    <tr>\n",
       "      <th>6</th>\n",
       "      <td>384037</td>\n",
       "      <td>3384038</td>\n",
       "      <td>1528099354</td>\n",
       "      <td>1</td>\n",
       "      <td>3</td>\n",
       "      <td>3</td>\n",
       "      <td>2821</td>\n",
       "      <td>11</td>\n",
       "      <td>2158</td>\n",
       "      <td>7</td>\n",
       "      <td>...</td>\n",
       "      <td>0.565438</td>\n",
       "      <td>100</td>\n",
       "      <td>100</td>\n",
       "      <td>0.565438</td>\n",
       "      <td>0.565438</td>\n",
       "      <td>700</td>\n",
       "      <td>700</td>\n",
       "      <td>0</td>\n",
       "      <td>5</td>\n",
       "      <td>1</td>\n",
       "    </tr>\n",
       "    <tr>\n",
       "      <th>7</th>\n",
       "      <td>348042</td>\n",
       "      <td>3348043</td>\n",
       "      <td>1528099354</td>\n",
       "      <td>1</td>\n",
       "      <td>3</td>\n",
       "      <td>2</td>\n",
       "      <td>10275</td>\n",
       "      <td>11</td>\n",
       "      <td>2158</td>\n",
       "      <td>10</td>\n",
       "      <td>...</td>\n",
       "      <td>0.794087</td>\n",
       "      <td>100</td>\n",
       "      <td>100</td>\n",
       "      <td>0.804503</td>\n",
       "      <td>0.794087</td>\n",
       "      <td>987</td>\n",
       "      <td>987</td>\n",
       "      <td>0</td>\n",
       "      <td>5</td>\n",
       "      <td>1</td>\n",
       "    </tr>\n",
       "    <tr>\n",
       "      <th>8</th>\n",
       "      <td>628025</td>\n",
       "      <td>3628026</td>\n",
       "      <td>1526348288</td>\n",
       "      <td>1</td>\n",
       "      <td>1</td>\n",
       "      <td>1</td>\n",
       "      <td>3431</td>\n",
       "      <td>11</td>\n",
       "      <td>515</td>\n",
       "      <td>1</td>\n",
       "      <td>...</td>\n",
       "      <td>0.000000</td>\n",
       "      <td>77</td>\n",
       "      <td>29</td>\n",
       "      <td>0.000000</td>\n",
       "      <td>0.000000</td>\n",
       "      <td>77</td>\n",
       "      <td>29</td>\n",
       "      <td>2</td>\n",
       "      <td>4</td>\n",
       "      <td>1</td>\n",
       "    </tr>\n",
       "    <tr>\n",
       "      <th>9</th>\n",
       "      <td>658713</td>\n",
       "      <td>3658714</td>\n",
       "      <td>1526349708</td>\n",
       "      <td>6</td>\n",
       "      <td>3</td>\n",
       "      <td>1</td>\n",
       "      <td>13550</td>\n",
       "      <td>12</td>\n",
       "      <td>1536</td>\n",
       "      <td>1</td>\n",
       "      <td>...</td>\n",
       "      <td>7199.770000</td>\n",
       "      <td>75</td>\n",
       "      <td>19</td>\n",
       "      <td>8866.370000</td>\n",
       "      <td>6309.150000</td>\n",
       "      <td>75</td>\n",
       "      <td>19</td>\n",
       "      <td>2</td>\n",
       "      <td>4</td>\n",
       "      <td>1</td>\n",
       "    </tr>\n",
       "  </tbody>\n",
       "</table>\n",
       "<p>10 rows × 45 columns</p>\n",
       "</div>"
      ],
      "text/plain": [
       "   Unnamed: 0  pkSeqID       stime  flgs_number  proto_number  saddr  sport  \\\n",
       "0      533840  3533841  1528099368            1             3      1  13674   \n",
       "1      276804  3276805  1528099353            1             3      1  12364   \n",
       "2      264136  3264137  1528099353            1             3      1   8718   \n",
       "3      352918  3352919  1528099354            1             3      4  26147   \n",
       "4      395075  3395076  1528099354            1             3      3   5971   \n",
       "5      196783  3196784  1528099353            1             3      2  19596   \n",
       "6      384037  3384038  1528099354            1             3      3   2821   \n",
       "7      348042  3348043  1528099354            1             3      2  10275   \n",
       "8      628025  3628026  1526348288            1             1      1   3431   \n",
       "9      658713  3658714  1526349708            6             3      1  13550   \n",
       "\n",
       "   daddr  dport  pkts   ...    AR_P_Proto_P_DstIP  N_IN_Conn_P_DstIP  \\\n",
       "0     11   2158    14   ...              1.076660                100   \n",
       "1     11   2158    15   ...              1.074120                100   \n",
       "2     11   2158    14   ...              1.045260                100   \n",
       "3     11   2158     7   ...              0.725507                100   \n",
       "4     11   2158     7   ...              0.567088                100   \n",
       "5     11   2158    11   ...              0.953630                100   \n",
       "6     11   2158     7   ...              0.565438                100   \n",
       "7     11   2158    10   ...              0.794087                100   \n",
       "8     11    515     1   ...              0.000000                 77   \n",
       "9     12   1536     1   ...           7199.770000                 75   \n",
       "\n",
       "   N_IN_Conn_P_SrcIP  AR_P_Proto_P_Sport  AR_P_Proto_P_Dport  \\\n",
       "0                100            1.082860            1.076660   \n",
       "1                100            1.074210            1.074120   \n",
       "2                100            1.003020            1.045260   \n",
       "3                 20            0.572246            0.725507   \n",
       "4                 76            0.565388            0.567088   \n",
       "5                 30            0.796507            0.953630   \n",
       "6                100            0.565438            0.565438   \n",
       "7                100            0.804503            0.794087   \n",
       "8                 29            0.000000            0.000000   \n",
       "9                 19         8866.370000         6309.150000   \n",
       "\n",
       "   Pkts_P_State_P_Protocol_P_DestIP  Pkts_P_State_P_Protocol_P_SrcIP  \\\n",
       "0                              1392                             1392   \n",
       "1                              1500                             1500   \n",
       "2                              1459                             1459   \n",
       "3                               869                              140   \n",
       "4                               700                              532   \n",
       "5                              1327                              330   \n",
       "6                               700                              700   \n",
       "7                               987                              987   \n",
       "8                                77                               29   \n",
       "9                                75                               19   \n",
       "\n",
       "   category  subcategory  attack  \n",
       "0         0            5       1  \n",
       "1         0            5       1  \n",
       "2         0            5       1  \n",
       "3         0            5       1  \n",
       "4         0            5       1  \n",
       "5         0            5       1  \n",
       "6         0            5       1  \n",
       "7         0            5       1  \n",
       "8         2            4       1  \n",
       "9         2            4       1  \n",
       "\n",
       "[10 rows x 45 columns]"
      ]
     },
     "execution_count": 17,
     "metadata": {},
     "output_type": "execute_result"
    }
   ],
   "source": [
    "from sklearn.preprocessing import LabelEncoder\n",
    "labelencoder_X = LabelEncoder()\n",
    "\n",
    "lb_make = LabelEncoder()\n",
    "df['sport'] = labelencoder_X.fit_transform(df['sport'])\n",
    "df['daddr'] = labelencoder_X.fit_transform(df['daddr'])\n",
    "df['dport'] = labelencoder_X.fit_transform(df['dport'])\n",
    "df['saddr'] = labelencoder_X.fit_transform(df['saddr'])\n",
    "df['state'] = labelencoder_X.fit_transform(df['state'])\n",
    "df['subcategory'] = labelencoder_X.fit_transform(df['subcategory'])\n",
    "df['category'] = labelencoder_X.fit_transform(df['category'])\n",
    "\n",
    "\n",
    "df.head(10)"
   ]
  },
  {
   "cell_type": "code",
   "execution_count": 54,
   "metadata": {
    "ExecuteTime": {
     "end_time": "2019-04-11T19:41:45.706367Z",
     "start_time": "2019-04-11T19:41:45.701363Z"
    }
   },
   "outputs": [
    {
     "data": {
      "text/plain": [
       "Unnamed: 0                            int64\n",
       "pkSeqID                               int64\n",
       "stime                                 int64\n",
       "flgs_number                           int64\n",
       "proto_number                          int64\n",
       "saddr                                 int32\n",
       "sport                                 int32\n",
       "daddr                                 int32\n",
       "dport                                 int32\n",
       "pkts                                  int64\n",
       "bytes                                 int64\n",
       "state                                 int32\n",
       "state_number                          int64\n",
       "ltime                                 int64\n",
       "seq                                   int64\n",
       "dur                                 float64\n",
       "mean                                float64\n",
       "stddev                              float64\n",
       "sum                                 float64\n",
       "min                                 float64\n",
       "max                                 float64\n",
       "spkts                                 int64\n",
       "dpkts                                 int64\n",
       "sbytes                                int64\n",
       "dbytes                                int64\n",
       "rate                                float64\n",
       "srate                               float64\n",
       "drate                               float64\n",
       "TnBPSrcIP                             int64\n",
       "TnBPDstIP                             int64\n",
       "TnP_PSrcIP                            int64\n",
       "TnP_PDstIP                            int64\n",
       "TnP_PerProto                          int64\n",
       "TnP_Per_Dport                         int64\n",
       "AR_P_Proto_P_SrcIP                  float64\n",
       "AR_P_Proto_P_DstIP                  float64\n",
       "N_IN_Conn_P_DstIP                     int64\n",
       "N_IN_Conn_P_SrcIP                     int64\n",
       "AR_P_Proto_P_Sport                  float64\n",
       "AR_P_Proto_P_Dport                  float64\n",
       "Pkts_P_State_P_Protocol_P_DestIP      int64\n",
       "Pkts_P_State_P_Protocol_P_SrcIP       int64\n",
       "category                              int32\n",
       "subcategory                           int32\n",
       "attack                                int64\n",
       "dtype: object"
      ]
     },
     "execution_count": 54,
     "metadata": {},
     "output_type": "execute_result"
    }
   ],
   "source": [
    "df.dtypes"
   ]
  },
  {
   "cell_type": "markdown",
   "metadata": {},
   "source": [
    "## Testing for Normality "
   ]
  },
  {
   "cell_type": "markdown",
   "metadata": {},
   "source": [
    "### Shapiro-Wilk\n",
    "\n"
   ]
  },
  {
   "cell_type": "markdown",
   "metadata": {},
   "source": [
    "The Shapiro-Wilk tests if a random sample came from a normal distribution. The null hypothesis of the test is the data is normally distributed. If the p value returned is less than.05, then the null hypothesis is rejected and there is evidence that the data is not from a normally distributed population."
   ]
  },
  {
   "cell_type": "code",
   "execution_count": null,
   "metadata": {
    "ExecuteTime": {
     "start_time": "2019-04-12T19:17:15.688Z"
    }
   },
   "outputs": [],
   "source": [
    "import plotly\n",
    "plotly.tools.set_credentials_file(username='sahar.ahmed1199', api_key='fBYUWvEpbJzzbH7jYnd1')\n",
    "\n",
    "import plotly.plotly as py\n",
    "\n",
    "import plotly.graph_objs as go\n",
    "import plotly.figure_factory as ff\n",
    "from scipy.stats import shapiro\n",
    "stat, p = shapiro(df)\n",
    "\n",
    "# interpret\n",
    "alpha = 0.05\n",
    "if p > alpha:\n",
    "    msg = 'Sample looks Gaussian (fail to reject H0)'\n",
    "else:\n",
    "    msg = 'Sample does not look Gaussian (reject H0)'\n",
    "\n",
    "result_mat = [\n",
    "    ['Length of the sample data', 'Test Statistic', 'p-value', 'Comments'],\n",
    "    [len(df), stat, p, msg]\n",
    "]\n",
    "\n",
    "swt_table = ff.create_table(result_mat)\n",
    "swt_table['data'][0].colorscale=[[0, '#2a3f5f'],[1, '#ffffff']]\n",
    "swt_table['layout']['height']=200\n",
    "swt_table['layout']['margin']['t']=50\n",
    "swt_table['layout']['margin']['b']=50\n",
    "\n",
    "py.iplot(swt_table, filename='shapiro-wilk-table')"
   ]
  },
  {
   "cell_type": "code",
   "execution_count": null,
   "metadata": {
    "ExecuteTime": {
     "start_time": "2019-04-12T19:17:17.480Z"
    }
   },
   "outputs": [],
   "source": [
    "import numpy as np\n",
    "from scipy.stats import norm\n",
    "import matplotlib.pyplot as plt\n",
    "\n",
    "\n",
    "# Generate some data for this demonstration.\n",
    "df = norm.rvs(10.0, 2.5, size=500)\n",
    "\n",
    "# Fit a normal distribution to the data:\n",
    "mu, std = norm.fit(df)\n",
    "\n",
    "# Plot the histogram.\n",
    "plt.hist(df, bins=25, density=True, alpha=0.6, color='g')\n",
    "\n",
    "# Plot the PDF.\n",
    "xmin, xmax = plt.xlim()\n",
    "x = np.linspace(xmin, xmax, 100)\n",
    "p = norm.pdf(x, mu, std)\n",
    "plt.plot(x, p, 'k', linewidth=2)\n",
    "title = \"Fit results: mu = %.2f,  std = %.2f\" % (mu, std)\n",
    "plt.title(title)\n",
    "\n",
    "plt.show()"
   ]
  },
  {
   "cell_type": "markdown",
   "metadata": {},
   "source": [
    "## Feature Scaling"
   ]
  },
  {
   "cell_type": "markdown",
   "metadata": {},
   "source": [
    "###  Standard Scaler"
   ]
  },
  {
   "cell_type": "markdown",
   "metadata": {},
   "source": [
    "The Standard Scaler is one of the most widely used scaling algorithms out there. It assumes that your data follows a Gaussian distribution (Gaussian distribution is the same thing as Normal distribution). The mean and the standard deviation are calculated for the feature and then the feature is scaled based on:\n",
    "\n",
    "(xi–mean(x))/stdev(x)\n",
    "\n",
    "The idea behind Standard Scaler is that it will transform your data, such that the distribution will have a mean value of 0 and a standard deviation of 1\n",
    "\n",
    "<img src= \"https://cdn-images-1.medium.com/max/800/1*-9SPkqHA12dkiDCAHnXLuw.png\" width=\"500\"/>\n",
    "\n",
    "\n"
   ]
  },
  {
   "cell_type": "code",
   "execution_count": 19,
   "metadata": {
    "ExecuteTime": {
     "end_time": "2019-04-12T19:08:10.527839Z",
     "start_time": "2019-04-12T19:08:07.794663Z"
    }
   },
   "outputs": [
    {
     "name": "stderr",
     "output_type": "stream",
     "text": [
      "C:\\Users\\WinDpows\\Anaconda31\\lib\\site-packages\\sklearn\\preprocessing\\data.py:625: DataConversionWarning:\n",
      "\n",
      "Data with input dtype int32, int64, float64 were all converted to float64 by StandardScaler.\n",
      "\n",
      "C:\\Users\\WinDpows\\Anaconda31\\lib\\site-packages\\ipykernel_launcher.py:6: DataConversionWarning:\n",
      "\n",
      "Data with input dtype int32, int64, float64 were all converted to float64 by StandardScaler.\n",
      "\n"
     ]
    }
   ],
   "source": [
    "# For both types of scaling, we need to import preprocessing module\n",
    "from sklearn.preprocessing import StandardScaler\n",
    "\n",
    "scaler = StandardScaler()\n",
    "dataset_standard_scaled = scaler.fit(df)\n",
    "dataset_standard_scaled = dataset_standard_scaled.transform(df)"
   ]
  },
  {
   "cell_type": "code",
   "execution_count": 20,
   "metadata": {
    "ExecuteTime": {
     "end_time": "2019-04-12T19:08:12.602666Z",
     "start_time": "2019-04-12T19:08:11.470996Z"
    }
   },
   "outputs": [],
   "source": [
    "#change the array to datafram to present the data head\n",
    "dataframe = pd.DataFrame.from_records(dataset_standard_scaled)"
   ]
  },
  {
   "cell_type": "code",
   "execution_count": 21,
   "metadata": {
    "ExecuteTime": {
     "end_time": "2019-04-12T19:08:14.295500Z",
     "start_time": "2019-04-12T19:08:14.276487Z"
    }
   },
   "outputs": [
    {
     "data": {
      "text/html": [
       "<div>\n",
       "<style scoped>\n",
       "    .dataframe tbody tr th:only-of-type {\n",
       "        vertical-align: middle;\n",
       "    }\n",
       "\n",
       "    .dataframe tbody tr th {\n",
       "        vertical-align: top;\n",
       "    }\n",
       "\n",
       "    .dataframe thead th {\n",
       "        text-align: right;\n",
       "    }\n",
       "</style>\n",
       "<table border=\"1\" class=\"dataframe\">\n",
       "  <thead>\n",
       "    <tr style=\"text-align: right;\">\n",
       "      <th></th>\n",
       "      <th>0</th>\n",
       "      <th>1</th>\n",
       "      <th>2</th>\n",
       "      <th>3</th>\n",
       "      <th>4</th>\n",
       "      <th>5</th>\n",
       "      <th>6</th>\n",
       "      <th>7</th>\n",
       "      <th>8</th>\n",
       "      <th>9</th>\n",
       "      <th>...</th>\n",
       "      <th>35</th>\n",
       "      <th>36</th>\n",
       "      <th>37</th>\n",
       "      <th>38</th>\n",
       "      <th>39</th>\n",
       "      <th>40</th>\n",
       "      <th>41</th>\n",
       "      <th>42</th>\n",
       "      <th>43</th>\n",
       "      <th>44</th>\n",
       "    </tr>\n",
       "  </thead>\n",
       "  <tbody>\n",
       "    <tr>\n",
       "      <th>0</th>\n",
       "      <td>1.040731</td>\n",
       "      <td>1.040731</td>\n",
       "      <td>0.389743</td>\n",
       "      <td>-0.137423</td>\n",
       "      <td>0.298069</td>\n",
       "      <td>-1.185075</td>\n",
       "      <td>-0.311896</td>\n",
       "      <td>-0.025676</td>\n",
       "      <td>0.315325</td>\n",
       "      <td>0.007472</td>\n",
       "      <td>...</td>\n",
       "      <td>-0.156849</td>\n",
       "      <td>0.183412</td>\n",
       "      <td>0.687442</td>\n",
       "      <td>-0.078615</td>\n",
       "      <td>-0.075027</td>\n",
       "      <td>0.653172</td>\n",
       "      <td>1.043037</td>\n",
       "      <td>-0.393871</td>\n",
       "      <td>0.368213</td>\n",
       "      <td>0.026842</td>\n",
       "    </tr>\n",
       "    <tr>\n",
       "      <th>1</th>\n",
       "      <td>-0.294324</td>\n",
       "      <td>-0.294324</td>\n",
       "      <td>0.389717</td>\n",
       "      <td>-0.137423</td>\n",
       "      <td>0.298069</td>\n",
       "      <td>-1.185075</td>\n",
       "      <td>-0.449355</td>\n",
       "      <td>-0.025676</td>\n",
       "      <td>0.315325</td>\n",
       "      <td>0.010410</td>\n",
       "      <td>...</td>\n",
       "      <td>-0.156849</td>\n",
       "      <td>0.183412</td>\n",
       "      <td>0.687442</td>\n",
       "      <td>-0.078615</td>\n",
       "      <td>-0.075027</td>\n",
       "      <td>0.804067</td>\n",
       "      <td>1.227057</td>\n",
       "      <td>-0.393871</td>\n",
       "      <td>0.368213</td>\n",
       "      <td>0.026842</td>\n",
       "    </tr>\n",
       "    <tr>\n",
       "      <th>2</th>\n",
       "      <td>-0.360122</td>\n",
       "      <td>-0.360122</td>\n",
       "      <td>0.389717</td>\n",
       "      <td>-0.137423</td>\n",
       "      <td>0.298069</td>\n",
       "      <td>-1.185075</td>\n",
       "      <td>-0.831932</td>\n",
       "      <td>-0.025676</td>\n",
       "      <td>0.315325</td>\n",
       "      <td>0.007472</td>\n",
       "      <td>...</td>\n",
       "      <td>-0.156852</td>\n",
       "      <td>0.183412</td>\n",
       "      <td>0.687442</td>\n",
       "      <td>-0.078618</td>\n",
       "      <td>-0.075027</td>\n",
       "      <td>0.746783</td>\n",
       "      <td>1.157198</td>\n",
       "      <td>-0.393871</td>\n",
       "      <td>0.368213</td>\n",
       "      <td>0.026842</td>\n",
       "    </tr>\n",
       "    <tr>\n",
       "      <th>3</th>\n",
       "      <td>0.101016</td>\n",
       "      <td>0.101016</td>\n",
       "      <td>0.389719</td>\n",
       "      <td>-0.137423</td>\n",
       "      <td>0.298069</td>\n",
       "      <td>1.192302</td>\n",
       "      <td>0.996904</td>\n",
       "      <td>-0.025676</td>\n",
       "      <td>0.315325</td>\n",
       "      <td>-0.013092</td>\n",
       "      <td>...</td>\n",
       "      <td>-0.156884</td>\n",
       "      <td>0.183412</td>\n",
       "      <td>-2.374239</td>\n",
       "      <td>-0.078631</td>\n",
       "      <td>-0.075035</td>\n",
       "      <td>-0.077555</td>\n",
       "      <td>-1.090230</td>\n",
       "      <td>-0.393871</td>\n",
       "      <td>0.368213</td>\n",
       "      <td>0.026842</td>\n",
       "    </tr>\n",
       "    <tr>\n",
       "      <th>4</th>\n",
       "      <td>0.319981</td>\n",
       "      <td>0.319981</td>\n",
       "      <td>0.389719</td>\n",
       "      <td>-0.137423</td>\n",
       "      <td>0.298069</td>\n",
       "      <td>0.399843</td>\n",
       "      <td>-1.120177</td>\n",
       "      <td>-0.025676</td>\n",
       "      <td>0.315325</td>\n",
       "      <td>-0.013092</td>\n",
       "      <td>...</td>\n",
       "      <td>-0.156900</td>\n",
       "      <td>0.183412</td>\n",
       "      <td>-0.231062</td>\n",
       "      <td>-0.078631</td>\n",
       "      <td>-0.075038</td>\n",
       "      <td>-0.313679</td>\n",
       "      <td>-0.422306</td>\n",
       "      <td>-0.393871</td>\n",
       "      <td>0.368213</td>\n",
       "      <td>0.026842</td>\n",
       "    </tr>\n",
       "  </tbody>\n",
       "</table>\n",
       "<p>5 rows × 45 columns</p>\n",
       "</div>"
      ],
      "text/plain": [
       "         0         1         2         3         4         5         6   \\\n",
       "0  1.040731  1.040731  0.389743 -0.137423  0.298069 -1.185075 -0.311896   \n",
       "1 -0.294324 -0.294324  0.389717 -0.137423  0.298069 -1.185075 -0.449355   \n",
       "2 -0.360122 -0.360122  0.389717 -0.137423  0.298069 -1.185075 -0.831932   \n",
       "3  0.101016  0.101016  0.389719 -0.137423  0.298069  1.192302  0.996904   \n",
       "4  0.319981  0.319981  0.389719 -0.137423  0.298069  0.399843 -1.120177   \n",
       "\n",
       "         7         8         9     ...           35        36        37  \\\n",
       "0 -0.025676  0.315325  0.007472    ...    -0.156849  0.183412  0.687442   \n",
       "1 -0.025676  0.315325  0.010410    ...    -0.156849  0.183412  0.687442   \n",
       "2 -0.025676  0.315325  0.007472    ...    -0.156852  0.183412  0.687442   \n",
       "3 -0.025676  0.315325 -0.013092    ...    -0.156884  0.183412 -2.374239   \n",
       "4 -0.025676  0.315325 -0.013092    ...    -0.156900  0.183412 -0.231062   \n",
       "\n",
       "         38        39        40        41        42        43        44  \n",
       "0 -0.078615 -0.075027  0.653172  1.043037 -0.393871  0.368213  0.026842  \n",
       "1 -0.078615 -0.075027  0.804067  1.227057 -0.393871  0.368213  0.026842  \n",
       "2 -0.078618 -0.075027  0.746783  1.157198 -0.393871  0.368213  0.026842  \n",
       "3 -0.078631 -0.075035 -0.077555 -1.090230 -0.393871  0.368213  0.026842  \n",
       "4 -0.078631 -0.075038 -0.313679 -0.422306 -0.393871  0.368213  0.026842  \n",
       "\n",
       "[5 rows x 45 columns]"
      ]
     },
     "execution_count": 21,
     "metadata": {},
     "output_type": "execute_result"
    }
   ],
   "source": [
    "dataframe.head()"
   ]
  },
  {
   "cell_type": "code",
   "execution_count": 58,
   "metadata": {
    "ExecuteTime": {
     "end_time": "2019-04-11T19:42:01.996319Z",
     "start_time": "2019-04-11T19:42:01.991321Z"
    }
   },
   "outputs": [
    {
     "data": {
      "text/plain": [
       "0     float64\n",
       "1     float64\n",
       "2     float64\n",
       "3     float64\n",
       "4     float64\n",
       "5     float64\n",
       "6     float64\n",
       "7     float64\n",
       "8     float64\n",
       "9     float64\n",
       "10    float64\n",
       "11    float64\n",
       "12    float64\n",
       "13    float64\n",
       "14    float64\n",
       "15    float64\n",
       "16    float64\n",
       "17    float64\n",
       "18    float64\n",
       "19    float64\n",
       "20    float64\n",
       "21    float64\n",
       "22    float64\n",
       "23    float64\n",
       "24    float64\n",
       "25    float64\n",
       "26    float64\n",
       "27    float64\n",
       "28    float64\n",
       "29    float64\n",
       "30    float64\n",
       "31    float64\n",
       "32    float64\n",
       "33    float64\n",
       "34    float64\n",
       "35    float64\n",
       "36    float64\n",
       "37    float64\n",
       "38    float64\n",
       "39    float64\n",
       "40    float64\n",
       "41    float64\n",
       "42    float64\n",
       "43    float64\n",
       "44    float64\n",
       "dtype: object"
      ]
     },
     "execution_count": 58,
     "metadata": {},
     "output_type": "execute_result"
    }
   ],
   "source": [
    "dataframe.dtypes"
   ]
  },
  {
   "cell_type": "code",
   "execution_count": 22,
   "metadata": {
    "ExecuteTime": {
     "end_time": "2019-04-12T19:08:29.074717Z",
     "start_time": "2019-04-12T19:08:26.107158Z"
    }
   },
   "outputs": [
    {
     "data": {
      "image/png": "[encoded data removed]",
      "text/plain": [
       "<Figure size 1080x360 with 2 Axes>"
      ]
     },
     "metadata": {
      "needs_background": "light"
     },
     "output_type": "display_data"
    }
   ],
   "source": [
    "# Let's visualize our scaled features (left) and their distribution (right)\n",
    "import matplotlib.pyplot as plt\n",
    "fig, axs = plt.subplots(1,2)\n",
    "\n",
    "pd.DataFrame(dataset_standard_scaled).plot(kind='line', legend=False, ax=axs[0], figsize=(15, 5))\n",
    "pd.DataFrame(dataset_standard_scaled).plot(kind='hist', legend=False, ax=axs[1]);"
   ]
  },
  {
   "cell_type": "code",
   "execution_count": 23,
   "metadata": {
    "ExecuteTime": {
     "end_time": "2019-04-12T19:08:43.325736Z",
     "start_time": "2019-04-12T19:08:38.945492Z"
    }
   },
   "outputs": [
    {
     "data": {
      "image/png": "[encoded data removed]",
      "text/plain": [
       "<Figure size 1080x1440 with 49 Axes>"
      ]
     },
     "metadata": {
      "needs_background": "light"
     },
     "output_type": "display_data"
    }
   ],
   "source": [
    "# histograms\n",
    "dataframe.hist(figsize = (15,20))\n",
    "plt.show()"
   ]
  },
  {
   "cell_type": "markdown",
   "metadata": {},
   "source": [
    "### Min-Max Scaling¶\n"
   ]
  },
  {
   "cell_type": "code",
   "execution_count": 24,
   "metadata": {
    "ExecuteTime": {
     "end_time": "2019-04-12T19:08:53.690442Z",
     "start_time": "2019-04-12T19:08:53.621395Z"
    }
   },
   "outputs": [
    {
     "name": "stderr",
     "output_type": "stream",
     "text": [
      "C:\\Users\\WinDpows\\Anaconda31\\lib\\site-packages\\sklearn\\preprocessing\\data.py:323: DataConversionWarning:\n",
      "\n",
      "Data with input dtype int32, int64, float64 were all converted to float64 by MinMaxScaler.\n",
      "\n"
     ]
    }
   ],
   "source": [
    "# For both types of scaling, we need to import preprocessing module\n",
    "from sklearn.preprocessing import MinMaxScaler\n",
    "\n",
    "scaler = MinMaxScaler()\n",
    "dataset_min_max_scaled = scaler.fit(df)\n",
    "dataset_min_max_scaled = dataset_min_max_scaled.transform(df)"
   ]
  },
  {
   "cell_type": "code",
   "execution_count": 25,
   "metadata": {
    "ExecuteTime": {
     "end_time": "2019-04-12T19:08:55.452016Z",
     "start_time": "2019-04-12T19:08:54.704478Z"
    }
   },
   "outputs": [],
   "source": [
    "dataframe1 = pd.DataFrame.from_records(dataset_min_max_scaled)"
   ]
  },
  {
   "cell_type": "code",
   "execution_count": 62,
   "metadata": {
    "ExecuteTime": {
     "end_time": "2019-04-11T19:42:07.618280Z",
     "start_time": "2019-04-11T19:42:07.583254Z"
    }
   },
   "outputs": [
    {
     "data": {
      "text/html": [
       "<div>\n",
       "<style scoped>\n",
       "    .dataframe tbody tr th:only-of-type {\n",
       "        vertical-align: middle;\n",
       "    }\n",
       "\n",
       "    .dataframe tbody tr th {\n",
       "        vertical-align: top;\n",
       "    }\n",
       "\n",
       "    .dataframe thead th {\n",
       "        text-align: right;\n",
       "    }\n",
       "</style>\n",
       "<table border=\"1\" class=\"dataframe\">\n",
       "  <thead>\n",
       "    <tr style=\"text-align: right;\">\n",
       "      <th></th>\n",
       "      <th>0</th>\n",
       "      <th>1</th>\n",
       "      <th>2</th>\n",
       "      <th>3</th>\n",
       "      <th>4</th>\n",
       "      <th>5</th>\n",
       "      <th>6</th>\n",
       "      <th>7</th>\n",
       "      <th>8</th>\n",
       "      <th>9</th>\n",
       "      <th>...</th>\n",
       "      <th>35</th>\n",
       "      <th>36</th>\n",
       "      <th>37</th>\n",
       "      <th>38</th>\n",
       "      <th>39</th>\n",
       "      <th>40</th>\n",
       "      <th>41</th>\n",
       "      <th>42</th>\n",
       "      <th>43</th>\n",
       "      <th>44</th>\n",
       "    </tr>\n",
       "  </thead>\n",
       "  <tbody>\n",
       "    <tr>\n",
       "      <th>0</th>\n",
       "      <td>0.798534</td>\n",
       "      <td>0.798534</td>\n",
       "      <td>0.577994</td>\n",
       "      <td>0.0</td>\n",
       "      <td>0.5</td>\n",
       "      <td>0.083333</td>\n",
       "      <td>0.412116</td>\n",
       "      <td>0.392857</td>\n",
       "      <td>0.908249</td>\n",
       "      <td>0.000186</td>\n",
       "      <td>...</td>\n",
       "      <td>1.845704e-06</td>\n",
       "      <td>1.0</td>\n",
       "      <td>1.000000</td>\n",
       "      <td>5.414300e-07</td>\n",
       "      <td>5.383300e-07</td>\n",
       "      <td>0.013484</td>\n",
       "      <td>0.019856</td>\n",
       "      <td>0.0</td>\n",
       "      <td>1.0</td>\n",
       "      <td>1.0</td>\n",
       "    </tr>\n",
       "    <tr>\n",
       "      <th>1</th>\n",
       "      <td>0.414039</td>\n",
       "      <td>0.414039</td>\n",
       "      <td>0.577989</td>\n",
       "      <td>0.0</td>\n",
       "      <td>0.5</td>\n",
       "      <td>0.083333</td>\n",
       "      <td>0.372634</td>\n",
       "      <td>0.392857</td>\n",
       "      <td>0.908249</td>\n",
       "      <td>0.000200</td>\n",
       "      <td>...</td>\n",
       "      <td>1.841350e-06</td>\n",
       "      <td>1.0</td>\n",
       "      <td>1.000000</td>\n",
       "      <td>5.371050e-07</td>\n",
       "      <td>5.370600e-07</td>\n",
       "      <td>0.014531</td>\n",
       "      <td>0.021397</td>\n",
       "      <td>0.0</td>\n",
       "      <td>1.0</td>\n",
       "      <td>1.0</td>\n",
       "    </tr>\n",
       "    <tr>\n",
       "      <th>2</th>\n",
       "      <td>0.395090</td>\n",
       "      <td>0.395090</td>\n",
       "      <td>0.577989</td>\n",
       "      <td>0.0</td>\n",
       "      <td>0.5</td>\n",
       "      <td>0.083333</td>\n",
       "      <td>0.262749</td>\n",
       "      <td>0.392857</td>\n",
       "      <td>0.908249</td>\n",
       "      <td>0.000186</td>\n",
       "      <td>...</td>\n",
       "      <td>1.791875e-06</td>\n",
       "      <td>1.0</td>\n",
       "      <td>1.000000</td>\n",
       "      <td>5.015100e-07</td>\n",
       "      <td>5.226300e-07</td>\n",
       "      <td>0.014134</td>\n",
       "      <td>0.020812</td>\n",
       "      <td>0.0</td>\n",
       "      <td>1.0</td>\n",
       "      <td>1.0</td>\n",
       "    </tr>\n",
       "    <tr>\n",
       "      <th>3</th>\n",
       "      <td>0.527897</td>\n",
       "      <td>0.527897</td>\n",
       "      <td>0.577989</td>\n",
       "      <td>0.0</td>\n",
       "      <td>0.5</td>\n",
       "      <td>0.333333</td>\n",
       "      <td>0.788035</td>\n",
       "      <td>0.392857</td>\n",
       "      <td>0.908249</td>\n",
       "      <td>0.000086</td>\n",
       "      <td>...</td>\n",
       "      <td>1.243727e-06</td>\n",
       "      <td>1.0</td>\n",
       "      <td>0.191919</td>\n",
       "      <td>2.861230e-07</td>\n",
       "      <td>3.627535e-07</td>\n",
       "      <td>0.008414</td>\n",
       "      <td>0.001984</td>\n",
       "      <td>0.0</td>\n",
       "      <td>1.0</td>\n",
       "      <td>1.0</td>\n",
       "    </tr>\n",
       "    <tr>\n",
       "      <th>4</th>\n",
       "      <td>0.590958</td>\n",
       "      <td>0.590958</td>\n",
       "      <td>0.577989</td>\n",
       "      <td>0.0</td>\n",
       "      <td>0.5</td>\n",
       "      <td>0.250000</td>\n",
       "      <td>0.179958</td>\n",
       "      <td>0.392857</td>\n",
       "      <td>0.908249</td>\n",
       "      <td>0.000086</td>\n",
       "      <td>...</td>\n",
       "      <td>9.721514e-07</td>\n",
       "      <td>1.0</td>\n",
       "      <td>0.757576</td>\n",
       "      <td>2.826940e-07</td>\n",
       "      <td>2.835440e-07</td>\n",
       "      <td>0.006776</td>\n",
       "      <td>0.007580</td>\n",
       "      <td>0.0</td>\n",
       "      <td>1.0</td>\n",
       "      <td>1.0</td>\n",
       "    </tr>\n",
       "  </tbody>\n",
       "</table>\n",
       "<p>5 rows × 45 columns</p>\n",
       "</div>"
      ],
      "text/plain": [
       "         0         1         2    3    4         5         6         7   \\\n",
       "0  0.798534  0.798534  0.577994  0.0  0.5  0.083333  0.412116  0.392857   \n",
       "1  0.414039  0.414039  0.577989  0.0  0.5  0.083333  0.372634  0.392857   \n",
       "2  0.395090  0.395090  0.577989  0.0  0.5  0.083333  0.262749  0.392857   \n",
       "3  0.527897  0.527897  0.577989  0.0  0.5  0.333333  0.788035  0.392857   \n",
       "4  0.590958  0.590958  0.577989  0.0  0.5  0.250000  0.179958  0.392857   \n",
       "\n",
       "         8         9  ...             35   36        37            38  \\\n",
       "0  0.908249  0.000186 ...   1.845704e-06  1.0  1.000000  5.414300e-07   \n",
       "1  0.908249  0.000200 ...   1.841350e-06  1.0  1.000000  5.371050e-07   \n",
       "2  0.908249  0.000186 ...   1.791875e-06  1.0  1.000000  5.015100e-07   \n",
       "3  0.908249  0.000086 ...   1.243727e-06  1.0  0.191919  2.861230e-07   \n",
       "4  0.908249  0.000086 ...   9.721514e-07  1.0  0.757576  2.826940e-07   \n",
       "\n",
       "             39        40        41   42   43   44  \n",
       "0  5.383300e-07  0.013484  0.019856  0.0  1.0  1.0  \n",
       "1  5.370600e-07  0.014531  0.021397  0.0  1.0  1.0  \n",
       "2  5.226300e-07  0.014134  0.020812  0.0  1.0  1.0  \n",
       "3  3.627535e-07  0.008414  0.001984  0.0  1.0  1.0  \n",
       "4  2.835440e-07  0.006776  0.007580  0.0  1.0  1.0  \n",
       "\n",
       "[5 rows x 45 columns]"
      ]
     },
     "execution_count": 62,
     "metadata": {},
     "output_type": "execute_result"
    }
   ],
   "source": [
    "dataframe1.head()"
   ]
  },
  {
   "cell_type": "code",
   "execution_count": 63,
   "metadata": {
    "ExecuteTime": {
     "end_time": "2019-04-11T19:42:21.089623Z",
     "start_time": "2019-04-11T19:42:08.657163Z"
    }
   },
   "outputs": [
    {
     "data": {
      "image/png": "[encoded data removed]",
      "text/plain": [
       "<Figure size 504x360 with 1 Axes>"
      ]
     },
     "metadata": {
      "needs_background": "light"
     },
     "output_type": "display_data"
    }
   ],
   "source": [
    "# Let's visualize our scaled features\n",
    "pd.DataFrame(dataset_min_max_scaled).plot(legend=False, figsize=(7, 5));"
   ]
  },
  {
   "cell_type": "code",
   "execution_count": 64,
   "metadata": {
    "ExecuteTime": {
     "end_time": "2019-04-11T19:42:21.432865Z",
     "start_time": "2019-04-11T19:42:21.421857Z"
    }
   },
   "outputs": [
    {
     "name": "stdout",
     "output_type": "stream",
     "text": [
      "min = 0.0 max = 1.0000000000000002\n"
     ]
    }
   ],
   "source": [
    "print('min = ' + str(np.min(dataset_min_max_scaled)) + ' max = ' + str(np.max(dataset_min_max_scaled)))\n"
   ]
  },
  {
   "cell_type": "code",
   "execution_count": 26,
   "metadata": {
    "ExecuteTime": {
     "end_time": "2019-04-12T19:09:15.357893Z",
     "start_time": "2019-04-12T19:09:10.996802Z"
    }
   },
   "outputs": [
    {
     "data": {
      "image/png": "[encoded data removed]",
      "text/plain": [
       "<Figure size 1080x1440 with 49 Axes>"
      ]
     },
     "metadata": {
      "needs_background": "light"
     },
     "output_type": "display_data"
    }
   ],
   "source": [
    "# histograms\n",
    "dataframe1.hist(figsize = (15,20))\n",
    "plt.show()"
   ]
  },
  {
   "cell_type": "markdown",
   "metadata": {},
   "source": [
    "## Features and Targets and Convert Data to Arrays\n",
    "\n"
   ]
  },
  {
   "cell_type": "markdown",
   "metadata": {},
   "source": [
    "Now, we need to separate the data into the features and targets. The target, also known as the label, is the value we want to predict, in this case, the attack column "
   ]
  },
  {
   "cell_type": "code",
   "execution_count": 83,
   "metadata": {
    "ExecuteTime": {
     "end_time": "2019-04-11T22:16:10.505114Z",
     "start_time": "2019-04-11T22:16:10.488090Z"
    }
   },
   "outputs": [
    {
     "ename": "KeyError",
     "evalue": "\"['attack'] not found in axis\"",
     "output_type": "error",
     "traceback": [
      "\u001b[1;31m---------------------------------------------------------------------------\u001b[0m",
      "\u001b[1;31mKeyError\u001b[0m                                  Traceback (most recent call last)",
      "\u001b[1;32m<ipython-input-83-9ea6986b6a3d>\u001b[0m in \u001b[0;36m<module>\u001b[1;34m\u001b[0m\n\u001b[0;32m      1\u001b[0m \u001b[1;33m\u001b[0m\u001b[0m\n\u001b[1;32m----> 2\u001b[1;33m \u001b[0mdf\u001b[0m\u001b[1;33m=\u001b[0m \u001b[0mdf\u001b[0m\u001b[1;33m.\u001b[0m\u001b[0mdrop\u001b[0m\u001b[1;33m(\u001b[0m\u001b[1;34m'attack'\u001b[0m\u001b[1;33m,\u001b[0m \u001b[0maxis\u001b[0m \u001b[1;33m=\u001b[0m \u001b[1;36m1\u001b[0m\u001b[1;33m)\u001b[0m\u001b[1;33m\u001b[0m\u001b[1;33m\u001b[0m\u001b[0m\n\u001b[0m\u001b[0;32m      3\u001b[0m \u001b[1;31m# Saving feature names for later use\u001b[0m\u001b[1;33m\u001b[0m\u001b[1;33m\u001b[0m\u001b[1;33m\u001b[0m\u001b[0m\n\u001b[0;32m      4\u001b[0m \u001b[0mY\u001b[0m\u001b[1;33m=\u001b[0m \u001b[0mlist\u001b[0m\u001b[1;33m(\u001b[0m\u001b[0mdf\u001b[0m\u001b[1;33m.\u001b[0m\u001b[0mcolumns\u001b[0m\u001b[1;33m)\u001b[0m\u001b[1;33m\u001b[0m\u001b[1;33m\u001b[0m\u001b[0m\n",
      "\u001b[1;32m~\\Anaconda31\\lib\\site-packages\\pandas\\core\\frame.py\u001b[0m in \u001b[0;36mdrop\u001b[1;34m(self, labels, axis, index, columns, level, inplace, errors)\u001b[0m\n\u001b[0;32m   3695\u001b[0m                                            \u001b[0mindex\u001b[0m\u001b[1;33m=\u001b[0m\u001b[0mindex\u001b[0m\u001b[1;33m,\u001b[0m \u001b[0mcolumns\u001b[0m\u001b[1;33m=\u001b[0m\u001b[0mcolumns\u001b[0m\u001b[1;33m,\u001b[0m\u001b[1;33m\u001b[0m\u001b[1;33m\u001b[0m\u001b[0m\n\u001b[0;32m   3696\u001b[0m                                            \u001b[0mlevel\u001b[0m\u001b[1;33m=\u001b[0m\u001b[0mlevel\u001b[0m\u001b[1;33m,\u001b[0m \u001b[0minplace\u001b[0m\u001b[1;33m=\u001b[0m\u001b[0minplace\u001b[0m\u001b[1;33m,\u001b[0m\u001b[1;33m\u001b[0m\u001b[1;33m\u001b[0m\u001b[0m\n\u001b[1;32m-> 3697\u001b[1;33m                                            errors=errors)\n\u001b[0m\u001b[0;32m   3698\u001b[0m \u001b[1;33m\u001b[0m\u001b[0m\n\u001b[0;32m   3699\u001b[0m     @rewrite_axis_style_signature('mapper', [('copy', True),\n",
      "\u001b[1;32m~\\Anaconda31\\lib\\site-packages\\pandas\\core\\generic.py\u001b[0m in \u001b[0;36mdrop\u001b[1;34m(self, labels, axis, index, columns, level, inplace, errors)\u001b[0m\n\u001b[0;32m   3109\u001b[0m         \u001b[1;32mfor\u001b[0m \u001b[0maxis\u001b[0m\u001b[1;33m,\u001b[0m \u001b[0mlabels\u001b[0m \u001b[1;32min\u001b[0m \u001b[0maxes\u001b[0m\u001b[1;33m.\u001b[0m\u001b[0mitems\u001b[0m\u001b[1;33m(\u001b[0m\u001b[1;33m)\u001b[0m\u001b[1;33m:\u001b[0m\u001b[1;33m\u001b[0m\u001b[1;33m\u001b[0m\u001b[0m\n\u001b[0;32m   3110\u001b[0m             \u001b[1;32mif\u001b[0m \u001b[0mlabels\u001b[0m \u001b[1;32mis\u001b[0m \u001b[1;32mnot\u001b[0m \u001b[1;32mNone\u001b[0m\u001b[1;33m:\u001b[0m\u001b[1;33m\u001b[0m\u001b[1;33m\u001b[0m\u001b[0m\n\u001b[1;32m-> 3111\u001b[1;33m                 \u001b[0mobj\u001b[0m \u001b[1;33m=\u001b[0m \u001b[0mobj\u001b[0m\u001b[1;33m.\u001b[0m\u001b[0m_drop_axis\u001b[0m\u001b[1;33m(\u001b[0m\u001b[0mlabels\u001b[0m\u001b[1;33m,\u001b[0m \u001b[0maxis\u001b[0m\u001b[1;33m,\u001b[0m \u001b[0mlevel\u001b[0m\u001b[1;33m=\u001b[0m\u001b[0mlevel\u001b[0m\u001b[1;33m,\u001b[0m \u001b[0merrors\u001b[0m\u001b[1;33m=\u001b[0m\u001b[0merrors\u001b[0m\u001b[1;33m)\u001b[0m\u001b[1;33m\u001b[0m\u001b[1;33m\u001b[0m\u001b[0m\n\u001b[0m\u001b[0;32m   3112\u001b[0m \u001b[1;33m\u001b[0m\u001b[0m\n\u001b[0;32m   3113\u001b[0m         \u001b[1;32mif\u001b[0m \u001b[0minplace\u001b[0m\u001b[1;33m:\u001b[0m\u001b[1;33m\u001b[0m\u001b[1;33m\u001b[0m\u001b[0m\n",
      "\u001b[1;32m~\\Anaconda31\\lib\\site-packages\\pandas\\core\\generic.py\u001b[0m in \u001b[0;36m_drop_axis\u001b[1;34m(self, labels, axis, level, errors)\u001b[0m\n\u001b[0;32m   3141\u001b[0m                 \u001b[0mnew_axis\u001b[0m \u001b[1;33m=\u001b[0m \u001b[0maxis\u001b[0m\u001b[1;33m.\u001b[0m\u001b[0mdrop\u001b[0m\u001b[1;33m(\u001b[0m\u001b[0mlabels\u001b[0m\u001b[1;33m,\u001b[0m \u001b[0mlevel\u001b[0m\u001b[1;33m=\u001b[0m\u001b[0mlevel\u001b[0m\u001b[1;33m,\u001b[0m \u001b[0merrors\u001b[0m\u001b[1;33m=\u001b[0m\u001b[0merrors\u001b[0m\u001b[1;33m)\u001b[0m\u001b[1;33m\u001b[0m\u001b[1;33m\u001b[0m\u001b[0m\n\u001b[0;32m   3142\u001b[0m             \u001b[1;32melse\u001b[0m\u001b[1;33m:\u001b[0m\u001b[1;33m\u001b[0m\u001b[1;33m\u001b[0m\u001b[0m\n\u001b[1;32m-> 3143\u001b[1;33m                 \u001b[0mnew_axis\u001b[0m \u001b[1;33m=\u001b[0m \u001b[0maxis\u001b[0m\u001b[1;33m.\u001b[0m\u001b[0mdrop\u001b[0m\u001b[1;33m(\u001b[0m\u001b[0mlabels\u001b[0m\u001b[1;33m,\u001b[0m \u001b[0merrors\u001b[0m\u001b[1;33m=\u001b[0m\u001b[0merrors\u001b[0m\u001b[1;33m)\u001b[0m\u001b[1;33m\u001b[0m\u001b[1;33m\u001b[0m\u001b[0m\n\u001b[0m\u001b[0;32m   3144\u001b[0m             \u001b[0mresult\u001b[0m \u001b[1;33m=\u001b[0m \u001b[0mself\u001b[0m\u001b[1;33m.\u001b[0m\u001b[0mreindex\u001b[0m\u001b[1;33m(\u001b[0m\u001b[1;33m**\u001b[0m\u001b[1;33m{\u001b[0m\u001b[0maxis_name\u001b[0m\u001b[1;33m:\u001b[0m \u001b[0mnew_axis\u001b[0m\u001b[1;33m}\u001b[0m\u001b[1;33m)\u001b[0m\u001b[1;33m\u001b[0m\u001b[1;33m\u001b[0m\u001b[0m\n\u001b[0;32m   3145\u001b[0m \u001b[1;33m\u001b[0m\u001b[0m\n",
      "\u001b[1;32m~\\Anaconda31\\lib\\site-packages\\pandas\\core\\indexes\\base.py\u001b[0m in \u001b[0;36mdrop\u001b[1;34m(self, labels, errors)\u001b[0m\n\u001b[0;32m   4402\u001b[0m             \u001b[1;32mif\u001b[0m \u001b[0merrors\u001b[0m \u001b[1;33m!=\u001b[0m \u001b[1;34m'ignore'\u001b[0m\u001b[1;33m:\u001b[0m\u001b[1;33m\u001b[0m\u001b[1;33m\u001b[0m\u001b[0m\n\u001b[0;32m   4403\u001b[0m                 raise KeyError(\n\u001b[1;32m-> 4404\u001b[1;33m                     '{} not found in axis'.format(labels[mask]))\n\u001b[0m\u001b[0;32m   4405\u001b[0m             \u001b[0mindexer\u001b[0m \u001b[1;33m=\u001b[0m \u001b[0mindexer\u001b[0m\u001b[1;33m[\u001b[0m\u001b[1;33m~\u001b[0m\u001b[0mmask\u001b[0m\u001b[1;33m]\u001b[0m\u001b[1;33m\u001b[0m\u001b[1;33m\u001b[0m\u001b[0m\n\u001b[0;32m   4406\u001b[0m         \u001b[1;32mreturn\u001b[0m \u001b[0mself\u001b[0m\u001b[1;33m.\u001b[0m\u001b[0mdelete\u001b[0m\u001b[1;33m(\u001b[0m\u001b[0mindexer\u001b[0m\u001b[1;33m)\u001b[0m\u001b[1;33m\u001b[0m\u001b[1;33m\u001b[0m\u001b[0m\n",
      "\u001b[1;31mKeyError\u001b[0m: \"['attack'] not found in axis\""
     ]
    }
   ],
   "source": [
    "\n",
    "df= df.drop('attack', axis = 1)\n",
    "# Saving feature names for later use\n",
    "Y= list(df.columns)\n"
   ]
  },
  {
   "cell_type": "markdown",
   "metadata": {
    "ExecuteTime": {
     "end_time": "2019-04-04T14:26:48.083465Z",
     "start_time": "2019-04-04T14:26:48.014180Z"
    }
   },
   "source": [
    "## Training and Testing Sets\n",
    "\n"
   ]
  },
  {
   "cell_type": "markdown",
   "metadata": {},
   "source": [
    "There is one final step of data preparation: splitting data into training and testing sets. During training, we let the model ‘see’ the answers, in this case the actual attack, so it can learn how to classify the attack from the features.  Generally, when training a model, we randomly split the data into training and testing sets to get a representation of all data points. .\n",
    "\n",
    "The following code splits the data sets with another single line:"
   ]
  },
  {
   "cell_type": "code",
   "execution_count": 84,
   "metadata": {
    "ExecuteTime": {
     "end_time": "2019-04-11T22:16:17.475009Z",
     "start_time": "2019-04-11T22:16:17.469023Z"
    }
   },
   "outputs": [
    {
     "name": "stdout",
     "output_type": "stream",
     "text": [
      "0        1.0\n",
      "1        1.0\n",
      "2        1.0\n",
      "3        1.0\n",
      "4        1.0\n",
      "5        1.0\n",
      "6        1.0\n",
      "7        1.0\n",
      "8        1.0\n",
      "9        1.0\n",
      "10       1.0\n",
      "11       1.0\n",
      "12       1.0\n",
      "13       1.0\n",
      "14       1.0\n",
      "15       1.0\n",
      "16       1.0\n",
      "17       1.0\n",
      "18       1.0\n",
      "19       1.0\n",
      "20       1.0\n",
      "21       1.0\n",
      "22       1.0\n",
      "23       1.0\n",
      "24       1.0\n",
      "25       1.0\n",
      "26       1.0\n",
      "27       1.0\n",
      "28       1.0\n",
      "29       1.0\n",
      "        ... \n",
      "49970    1.0\n",
      "49971    1.0\n",
      "49972    1.0\n",
      "49973    1.0\n",
      "49974    1.0\n",
      "49975    1.0\n",
      "49976    1.0\n",
      "49977    1.0\n",
      "49978    1.0\n",
      "49979    1.0\n",
      "49980    1.0\n",
      "49981    1.0\n",
      "49982    1.0\n",
      "49983    1.0\n",
      "49984    1.0\n",
      "49985    1.0\n",
      "49986    1.0\n",
      "49987    1.0\n",
      "49988    1.0\n",
      "49989    1.0\n",
      "49990    1.0\n",
      "49991    1.0\n",
      "49992    1.0\n",
      "49993    1.0\n",
      "49994    1.0\n",
      "49995    1.0\n",
      "49996    1.0\n",
      "49997    1.0\n",
      "49998    1.0\n",
      "49999    1.0\n",
      "Name: 44, Length: 50000, dtype: float64\n"
     ]
    }
   ],
   "source": [
    "# separate the data from the target attributes\n",
    "\n",
    "\n",
    "X = dataframe1.iloc[:, 0:43].values\n",
    "Y = dataframe1.iloc[:, 44].values\n",
    "\n",
    "print(dataframe1.iloc[:, 44])"
   ]
  },
  {
   "cell_type": "code",
   "execution_count": null,
   "metadata": {
    "ExecuteTime": {
     "end_time": "2019-04-10T00:52:40.670262Z",
     "start_time": "2019-04-10T00:52:40.630221Z"
    }
   },
   "outputs": [],
   "source": []
  },
  {
   "cell_type": "code",
   "execution_count": 85,
   "metadata": {
    "ExecuteTime": {
     "end_time": "2019-04-11T22:16:25.757771Z",
     "start_time": "2019-04-11T22:16:25.718731Z"
    }
   },
   "outputs": [],
   "source": [
    "#In all feature selection procedures, it is a good practice to select the features by examining only the training set. This is to avoid overfitting.\n",
    "from sklearn.model_selection import train_test_split\n",
    "from matplotlib import pyplot as plt\n",
    "X_train, X_test, y_train, y_test = train_test_split(X, Y, test_size=0.3, random_state=101)\n"
   ]
  },
  {
   "cell_type": "code",
   "execution_count": 86,
   "metadata": {
    "ExecuteTime": {
     "end_time": "2019-04-11T22:16:26.716831Z",
     "start_time": "2019-04-11T22:16:26.712828Z"
    }
   },
   "outputs": [
    {
     "name": "stdout",
     "output_type": "stream",
     "text": [
      "Training Features Shape: (35000, 43)\n",
      "Training Labels Shape: (35000,)\n",
      "Testing Features Shape: (15000, 43)\n",
      "Testing Labels Shape: (15000,)\n"
     ]
    }
   ],
   "source": [
    "print('Training Features Shape:', X_train.shape)\n",
    "print('Training Labels Shape:', y_train.shape)\n",
    "print('Testing Features Shape:', X_test.shape)\n",
    "print('Testing Labels Shape:',  y_test.shape)"
   ]
  },
  {
   "cell_type": "markdown",
   "metadata": {},
   "source": [
    "We can look at the shape of all the data to make sure we did everything correctly. We expect the training features number of columns to match the testing feature number of columns and the number of rows to match for the respective training and testing features and the labels :"
   ]
  },
  {
   "cell_type": "markdown",
   "metadata": {},
   "source": [
    "It looks as if everything is in order! Just to recap, to get the data into a form acceptable for machine learning we:\n",
    "\n",
    "<ul style=\"list-style-type:square;\">\n",
    "<li>One-hot encoded categorical variables</li>\n",
    "<li>Split data into features and labels</li>\n",
    "<li>Converted to arrays</li>\n",
    "<li>Split data into training and testing sets</li>\n",
    "Depending on the initial data set, there may be extra work involved such as removing outliers, imputing missing values, or converting temporal variables into cyclical representations. These steps may seem arbitrary at first, but once you get the basic workflow, it will be generally the same for any machine learning problem. It’s all about taking human-readable data and putting it into a form that can be understood by a machine learning model."
   ]
  },
  {
   "cell_type": "markdown",
   "metadata": {},
   "source": [
    "\n",
    "\n",
    "# Feature Selection \n",
    "\n",
    "\n",
    "\n",
    "The aim of selecting is to maximize the classification accuracy in building learning models. The selection of relevant features is important in the sense that the generalization performance of learning models is greatly dependent on the selected features. Moreover, FS assists for visualizing and understanding the data, reducing storage requirements, reducing training times and so on. \n",
    "\n",
    "\n",
    "\n",
    "Feature selection is a process where you automatically select those features in your data that contribute most to the prediction variable or output in which you are interested.Having too many irrelevant features in your data can decrease the accuracy of the models. Three benefits of performing feature selection before modeling your data are:\n",
    "\n",
    "<ul style=\"list-style-type:square;\">\n",
    "\n",
    "<li>Reduces Overfitting: Less redundant data means less opportunity to make decisions based on noise.</li>\n",
    "<li>Improves Accuracy: Less misleading data means modeling accuracy improves.</li>\n",
    "<li>Reduces Training Time: Less data means that algorithms train faster.</li>\n",
    "\n",
    "\t\n",
    "<img src= \"https://cdn-images-1.medium.com/max/800/1*wnTXS4cPw-Tw_oC79VweTQ.jpeg\" width=700 height= 300 />\n",
    "\n",
    "\n"
   ]
  },
  {
   "cell_type": "markdown",
   "metadata": {},
   "source": [
    "## Random Forests"
   ]
  },
  {
   "cell_type": "markdown",
   "metadata": {
    "ExecuteTime": {
     "end_time": "2019-04-04T17:22:18.633572Z",
     "start_time": "2019-04-04T17:22:18.568517Z"
    }
   },
   "source": [
    "Random forests also offers a good feature selection indicator. Scikit-learn provides an extra variable with the model, which shows the relative importance or contribution of each feature in the prediction. It automatically computes the relevance score of each feature in the training phase. Then it scales the relevance down so that the sum of all scores is 1.\n",
    "\n",
    "This score will help you choose the most important features and drop the least important ones for model building. Feature selection using Random forest comes under the category of Embedded methods. Embedded methods combine the qualities of filter and wrapper methods.  They are implemented by algorithms that have their own built-in feature selection methods. Some of the benefits of embedded methods are :\n",
    "\n",
    "<ul style=\"list-style-type:square;\">\n",
    "\n",
    "\n",
    "<li>They are highly accurate.</li>\n",
    "<li>They generalize better.</li>\n",
    "<li>They are interpretable</li>\n",
    "\n",
    "\n",
    "\n",
    "\n"
   ]
  },
  {
   "cell_type": "code",
   "execution_count": 87,
   "metadata": {
    "ExecuteTime": {
     "end_time": "2019-04-11T22:16:35.579773Z",
     "start_time": "2019-04-11T22:16:35.575788Z"
    }
   },
   "outputs": [],
   "source": [
    "import pandas as pd\n",
    "from sklearn.ensemble.forest import RandomForestClassifier\n",
    "from sklearn.feature_selection import SelectFromModel"
   ]
  },
  {
   "cell_type": "markdown",
   "metadata": {},
   "source": [
    "SelectFromModel will select those features which importance is greater than the mean importance of all the features by default, but we can alter this threshold if we want."
   ]
  },
  {
   "cell_type": "code",
   "execution_count": 88,
   "metadata": {
    "ExecuteTime": {
     "end_time": "2019-04-11T22:16:40.303012Z",
     "start_time": "2019-04-11T22:16:37.299874Z"
    }
   },
   "outputs": [
    {
     "data": {
      "text/plain": [
       "SelectFromModel(estimator=RandomForestClassifier(bootstrap=True, class_weight=None, criterion='gini',\n",
       "            max_depth=None, max_features='auto', max_leaf_nodes=None,\n",
       "            min_impurity_decrease=0.0, min_impurity_split=None,\n",
       "            min_samples_leaf=1, min_samples_split=2,\n",
       "            min_weight_fraction_leaf=0.0, n_estimators=100, n_jobs=None,\n",
       "            oob_score=False, random_state=None, verbose=0,\n",
       "            warm_start=False),\n",
       "        max_features=None, norm_order=1, prefit=False, threshold=None)"
      ]
     },
     "execution_count": 88,
     "metadata": {},
     "output_type": "execute_result"
    }
   ],
   "source": [
    "sel = SelectFromModel(RandomForestClassifier(n_estimators = 100))\n",
    "sel.fit(X_train, y_train)"
   ]
  },
  {
   "cell_type": "markdown",
   "metadata": {},
   "source": [
    "To see which features are important we can use get_support method on the fitted model. It will return an array of boolean values. True for the features whose importance is greater than the mean importance and False for the rest."
   ]
  },
  {
   "cell_type": "code",
   "execution_count": 89,
   "metadata": {
    "ExecuteTime": {
     "end_time": "2019-04-11T22:16:41.583405Z",
     "start_time": "2019-04-11T22:16:41.574417Z"
    }
   },
   "outputs": [
    {
     "data": {
      "text/plain": [
       "array([ True,  True, False, False, False, False, False,  True,  True,\n",
       "       False, False,  True, False, False, False, False, False, False,\n",
       "       False, False, False, False, False, False, False, False, False,\n",
       "       False, False, False,  True,  True,  True, False, False, False,\n",
       "        True, False, False, False, False, False,  True])"
      ]
     },
     "execution_count": 89,
     "metadata": {},
     "output_type": "execute_result"
    }
   ],
   "source": [
    "sel.get_support()\n",
    "\n"
   ]
  },
  {
   "cell_type": "markdown",
   "metadata": {},
   "source": [
    "We can now make a list and count the selected features."
   ]
  },
  {
   "cell_type": "code",
   "execution_count": 90,
   "metadata": {
    "ExecuteTime": {
     "end_time": "2019-04-11T22:16:44.221742Z",
     "start_time": "2019-04-11T22:16:44.212734Z"
    }
   },
   "outputs": [
    {
     "data": {
      "text/plain": [
       "10"
      ]
     },
     "execution_count": 90,
     "metadata": {},
     "output_type": "execute_result"
    }
   ],
   "source": [
    "cols = sel.get_support(indices=True)\n",
    "features_df_new = X_train[cols]\n",
    "\n",
    "len(features_df_new)\n"
   ]
  },
  {
   "cell_type": "code",
   "execution_count": 91,
   "metadata": {
    "ExecuteTime": {
     "end_time": "2019-04-11T22:16:47.556930Z",
     "start_time": "2019-04-11T22:16:47.549911Z"
    }
   },
   "outputs": [
    {
     "name": "stdout",
     "output_type": "stream",
     "text": [
      "[[9.16999749e-01 9.16999749e-01 3.91901536e-04 0.00000000e+00\n",
      "  0.00000000e+00 8.33333333e-02 6.80560579e-01 3.92857143e-01\n",
      "  6.30892256e-01 1.42742948e-05 8.35267383e-07 7.50000000e-01\n",
      "  0.00000000e+00 3.91796634e-04 7.04741124e-02 2.06609521e-07\n",
      "  8.04916696e-05 0.00000000e+00 2.09597188e-07 8.05144734e-05\n",
      "  8.02001123e-05 0.00000000e+00 2.85477747e-05 0.00000000e+00\n",
      "  1.76023654e-06 2.49376562e-03 0.00000000e+00 0.00000000e+00\n",
      "  5.41311668e-05 5.41311373e-05 8.82412934e-04 8.82405108e-04\n",
      "  8.62635197e-04 4.09125127e-06 2.17839288e-03 1.01362172e-02\n",
      "  1.00000000e+00 1.00000000e+00 2.95639500e-03 2.49376500e-03\n",
      "  1.92907966e-03 2.84058468e-03 6.66666667e-01]\n",
      " [7.05765411e-01 7.05765411e-01 5.77993840e-01 0.00000000e+00\n",
      "  5.00000000e-01 2.50000000e-01 8.43128391e-01 3.92857143e-01\n",
      "  9.08249158e-01 9.99200639e-05 5.84687168e-06 3.75000000e-01\n",
      "  3.33333333e-01 5.77843736e-01 2.16449936e-01 7.34686144e-03\n",
      "  6.80472360e-01 4.28772828e-01 5.31577096e-03 3.94746200e-01\n",
      "  8.27156758e-01 1.99845833e-04 0.00000000e+00 1.11267247e-05\n",
      "  0.00000000e+00 4.90910000e-07 2.79818704e-05 0.00000000e+00\n",
      "  2.17477521e-04 2.17477402e-04 3.54295444e-03 3.54292302e-03\n",
      "  3.48995052e-03 3.26890976e-03 2.06648516e-07 9.61550264e-07\n",
      "  1.00000000e+00 1.00000000e+00 2.80520000e-07 2.80452000e-07\n",
      "  7.74540026e-03 1.14051616e-02 0.00000000e+00]\n",
      " [1.40464380e-01 1.40464380e-01 5.77984289e-01 0.00000000e+00\n",
      "  5.00000000e-01 3.33333333e-01 6.73869801e-01 3.92857143e-01\n",
      "  9.08249158e-01 8.56457691e-05 5.01160430e-06 3.75000000e-01\n",
      "  3.33333333e-01 5.77833529e-01 7.74890999e-01 6.24699910e-03\n",
      "  5.39157491e-01 8.08464920e-01 4.21183616e-03 0.00000000e+00\n",
      "  8.06343329e-01 1.71296428e-04 0.00000000e+00 9.53719263e-06\n",
      "  0.00000000e+00 4.94864000e-07 2.82072484e-05 0.00000000e+00\n",
      "  1.67384639e-04 2.00053801e-04 2.72705505e-03 3.25913444e-03\n",
      "  3.20970355e-03 3.00706968e-03 2.12672191e-07 1.03822174e-06\n",
      "  1.00000000e+00 8.78787879e-01 2.88670500e-07 3.02814500e-07\n",
      "  7.12499273e-03 8.77869133e-03 0.00000000e+00]\n",
      " [9.20368465e-02 9.20368465e-02 5.77983960e-01 0.00000000e+00\n",
      "  5.00000000e-01 1.66666667e-01 2.38667872e-01 3.92857143e-01\n",
      "  9.08249158e-01 1.42742948e-04 8.35267383e-06 3.75000000e-01\n",
      "  3.33333333e-01 5.77833858e-01 6.51398229e-01 7.06195670e-03\n",
      "  7.33517574e-01 2.72232845e-01 5.73015401e-03 5.52125291e-01\n",
      "  8.21848351e-01 2.85494047e-04 0.00000000e+00 1.58953210e-05\n",
      "  0.00000000e+00 7.29593000e-07 4.15868016e-05 0.00000000e+00\n",
      "  2.09310203e-04 2.59130700e-04 3.40992737e-03 4.22135509e-03\n",
      "  4.15991593e-03 3.89487121e-03 2.95676954e-07 1.23364185e-06\n",
      "  1.00000000e+00 6.96969697e-01 4.01276500e-07 3.59812000e-07\n",
      "  9.22856201e-03 1.09769327e-02 0.00000000e+00]\n",
      " [3.93317018e-01 3.93317018e-01 5.77988900e-01 0.00000000e+00\n",
      "  5.00000000e-01 8.33333333e-02 2.48975286e-01 3.92857143e-01\n",
      "  9.08249158e-01 1.85565833e-04 1.08584760e-05 3.75000000e-01\n",
      "  3.33333333e-01 5.77838797e-01 4.19690028e-01 7.19135454e-03\n",
      "  7.99718861e-01 3.50497941e-01 6.24731024e-03 5.98384771e-01\n",
      "  9.99425599e-01 3.71142262e-04 0.00000000e+00 2.06639174e-05\n",
      "  0.00000000e+00 9.31405000e-07 5.30900858e-05 0.00000000e+00\n",
      "  3.42981970e-04 3.65850260e-04 5.58713717e-03 5.95956013e-03\n",
      "  5.87642860e-03 5.49864170e-03 3.78242561e-07 1.67465410e-06\n",
      "  1.00000000e+00 8.78787879e-01 5.01525000e-07 4.88440500e-07\n",
      "  1.30285581e-02 1.79856115e-02 0.00000000e+00]\n",
      " [3.38407848e-01 3.38407848e-01 5.77988900e-01 0.00000000e+00\n",
      "  5.00000000e-01 2.50000000e-01 6.08860759e-01 3.92857143e-01\n",
      "  9.08249158e-01 9.99200639e-05 5.84687168e-06 3.75000000e-01\n",
      "  3.33333333e-01 5.77838797e-01 2.79668743e-01 7.42309417e-03\n",
      "  6.89330056e-01 4.24072223e-01 5.38496730e-03 4.06705912e-01\n",
      "  8.33146566e-01 1.99845833e-04 0.00000000e+00 1.11267247e-05\n",
      "  0.00000000e+00 4.85869000e-07 2.76945334e-05 0.00000000e+00\n",
      "  2.17477521e-04 2.17477402e-04 3.54295444e-03 3.54292302e-03\n",
      "  3.48995052e-03 3.26890976e-03 2.04537467e-07 9.51727401e-07\n",
      "  1.00000000e+00 1.00000000e+00 2.77639500e-07 2.77587000e-07\n",
      "  7.74540026e-03 1.14051616e-02 0.00000000e+00]\n",
      " [5.65692950e-01 5.65692950e-01 5.77989229e-01 0.00000000e+00\n",
      "  5.00000000e-01 2.50000000e-01 3.19168174e-02 3.92857143e-01\n",
      "  9.08249158e-01 8.56457691e-05 5.01160430e-06 3.75000000e-01\n",
      "  3.33333333e-01 5.77838468e-01 8.59257762e-01 6.37833371e-03\n",
      "  5.50679041e-01 8.25829448e-01 4.30184064e-03 0.00000000e+00\n",
      "  8.29985362e-01 1.71296428e-04 0.00000000e+00 9.53719263e-06\n",
      "  0.00000000e+00 4.84674000e-07 2.76264184e-05 0.00000000e+00\n",
      "  1.76913176e-04 1.95970144e-04 2.88225330e-03 3.19262150e-03\n",
      "  3.14402067e-03 2.94570091e-03 2.08324461e-07 9.98213713e-07\n",
      "  1.00000000e+00 9.29292929e-01 2.82726500e-07 2.91145500e-07\n",
      "  6.97958471e-03 9.27829165e-03 0.00000000e+00]\n",
      " [8.92522707e-01 8.92522707e-01 1.05385287e-05 0.00000000e+00\n",
      "  0.00000000e+00 2.50000000e-01 8.81072936e-01 3.92857143e-01\n",
      "  9.94949495e-01 1.42742948e-05 8.35267383e-07 7.50000000e-01\n",
      "  0.00000000e+00 1.05357078e-05 5.72566402e-03 7.21329997e-09\n",
      "  2.81018298e-06 0.00000000e+00 7.31760757e-09 2.81097912e-06\n",
      "  2.80000392e-06 0.00000000e+00 2.85477747e-05 0.00000000e+00\n",
      "  1.76023654e-06 7.14285703e-02 0.00000000e+00 0.00000000e+00\n",
      "  5.41311668e-05 5.41311373e-05 8.82412934e-04 8.82405108e-04\n",
      "  8.62635197e-04 4.09125127e-06 5.01250787e-02 2.33235562e-01\n",
      "  1.00000000e+00 1.00000000e+00 6.80270000e-02 7.14285000e-02\n",
      "  1.92907966e-03 2.84058468e-03 6.66666667e-01]\n",
      " [5.53513517e-01 5.53513517e-01 5.77989229e-01 0.00000000e+00\n",
      "  5.00000000e-01 3.33333333e-01 8.26702833e-02 3.92857143e-01\n",
      "  9.08249158e-01 8.56457691e-05 5.01160430e-06 3.75000000e-01\n",
      "  3.33333333e-01 5.77838468e-01 8.28199563e-01 6.29882820e-03\n",
      "  5.45944685e-01 8.18655737e-01 4.26485693e-03 0.00000000e+00\n",
      "  8.18730346e-01 1.71296428e-04 0.00000000e+00 9.53719263e-06\n",
      "  0.00000000e+00 4.90792000e-07 2.79751444e-05 0.00000000e+00\n",
      "  1.90253128e-04 1.90253025e-04 3.09953086e-03 3.09950337e-03\n",
      "  3.05206463e-03 2.85978464e-03 2.10954246e-07 9.81585132e-07\n",
      "  1.00000000e+00 1.00000000e+00 2.86295500e-07 2.86295500e-07\n",
      "  6.77601349e-03 9.97773210e-03 0.00000000e+00]\n",
      " [6.58841234e-01 6.58841234e-01 5.77993840e-01 0.00000000e+00\n",
      "  5.00000000e-01 1.66666667e-01 4.22603978e-01 3.92857143e-01\n",
      "  9.08249158e-01 1.42742948e-04 8.35267383e-06 3.75000000e-01\n",
      "  3.33333333e-01 5.77843406e-01 9.67908054e-02 7.06783038e-03\n",
      "  7.36418887e-01 2.74657000e-01 5.75281873e-03 5.53519537e-01\n",
      "  8.30437363e-01 2.85494047e-04 0.00000000e+00 1.58953210e-05\n",
      "  0.00000000e+00 7.28987000e-07 4.15522596e-05 0.00000000e+00\n",
      "  2.99150698e-04 2.99150535e-04 4.87322520e-03 4.87318198e-03\n",
      "  4.80360818e-03 4.49628514e-03 2.95431218e-07 1.37466250e-06\n",
      "  1.00000000e+00 1.00000000e+00 4.00943000e-07 4.00943000e-07\n",
      "  1.06535606e-02 1.56874500e-02 0.00000000e+00]]\n"
     ]
    }
   ],
   "source": [
    "print(features_df_new)"
   ]
  },
  {
   "cell_type": "code",
   "execution_count": 92,
   "metadata": {
    "ExecuteTime": {
     "end_time": "2019-04-11T22:16:49.569358Z",
     "start_time": "2019-04-11T22:16:49.563357Z"
    }
   },
   "outputs": [],
   "source": [
    "dataf = pd.DataFrame.from_records(features_df_new)"
   ]
  },
  {
   "cell_type": "code",
   "execution_count": 93,
   "metadata": {
    "ExecuteTime": {
     "end_time": "2019-04-11T22:16:50.941464Z",
     "start_time": "2019-04-11T22:16:50.784370Z"
    }
   },
   "outputs": [
    {
     "data": {
      "text/plain": [
       "<matplotlib.axes._subplots.AxesSubplot at 0x34acd35f98>"
      ]
     },
     "execution_count": 93,
     "metadata": {},
     "output_type": "execute_result"
    },
    {
     "data": {
      "image/png": "[encoded data removed]",
      "text/plain": [
       "<Figure size 432x288 with 1 Axes>"
      ]
     },
     "metadata": {
      "needs_background": "light"
     },
     "output_type": "display_data"
    }
   ],
   "source": [
    "# check and plot the distribution of importance.\n",
    "\n",
    "\n",
    "pd.Series(sel.estimator_.feature_importances_.ravel()).hist()\n"
   ]
  },
  {
   "cell_type": "code",
   "execution_count": 94,
   "metadata": {
    "ExecuteTime": {
     "end_time": "2019-04-11T22:16:52.546107Z",
     "start_time": "2019-04-11T22:16:52.282927Z"
    }
   },
   "outputs": [
    {
     "data": {
      "image/png": "[encoded data removed]",
      "text/plain": [
       "<Figure size 432x288 with 1 Axes>"
      ]
     },
     "metadata": {
      "needs_background": "light"
     },
     "output_type": "display_data"
    }
   ],
   "source": [
    "importances = sel.estimator_.feature_importances_\n",
    "indices = np.argsort(importances)[::-1]\n",
    "# X is the train data used to fit the model \n",
    "plt.figure()\n",
    "plt.title(\"Feature importances\")\n",
    "plt.bar(range(X.shape[1]), importances[indices],\n",
    "       color=\"g\", align=\"center\")\n",
    "plt.xticks(range(X.shape[1]), indices)\n",
    "plt.xlim([-1, X.shape[1]])\n",
    "plt.show()"
   ]
  },
  {
   "cell_type": "markdown",
   "metadata": {},
   "source": [
    "## Principle Component Analysis\n"
   ]
  },
  {
   "cell_type": "code",
   "execution_count": null,
   "metadata": {},
   "outputs": [],
   "source": []
  },
  {
   "cell_type": "markdown",
   "metadata": {},
   "source": [
    "PCA uses linear algebra to transform the dataset into a compressed form. Generally, it is considered a data reduction technique. A property of PCA is that you can choose the number of dimensions or principal components in the transformed result"
   ]
  },
  {
   "cell_type": "code",
   "execution_count": null,
   "metadata": {},
   "outputs": [],
   "source": [
    "from sklearn.decomposition import PCA"
   ]
  },
  {
   "cell_type": "markdown",
   "metadata": {},
   "source": [
    "### Standardize the Data\n"
   ]
  },
  {
   "cell_type": "markdown",
   "metadata": {},
   "source": [
    "PCA is effected by scale so you need to scale the features in your data before applying PCA. Use StandardScaler to help you standardize the dataset’s features onto unit scale (mean = 0 and variance = 1) which is a requirement for the optimal performance of many machine learning algorithms"
   ]
  },
  {
   "cell_type": "code",
   "execution_count": null,
   "metadata": {},
   "outputs": [],
   "source": [
    "from sklearn.preprocessing import StandardScaler\n",
    "features = ['sepal length', 'sepal width', 'petal length', 'petal width']\n",
    "# Separating out the features\n",
    "x = df.loc[:, features].values\n",
    "# Separating out the target\n",
    "y = df.loc[:,['target']].values\n",
    "# Standardizing the features\n",
    "x = StandardScaler().fit_transform(x)"
   ]
  },
  {
   "cell_type": "markdown",
   "metadata": {},
   "source": [
    "# Train Model\n"
   ]
  },
  {
   "cell_type": "markdown",
   "metadata": {},
   "source": [
    "## SVM "
   ]
  },
  {
   "cell_type": "code",
   "execution_count": 95,
   "metadata": {
    "ExecuteTime": {
     "end_time": "2019-04-11T22:16:59.776808Z",
     "start_time": "2019-04-11T22:16:59.611692Z"
    }
   },
   "outputs": [
    {
     "data": {
      "text/plain": [
       "SVC(C=1.0, cache_size=200, class_weight=None, coef0=0.0,\n",
       "  decision_function_shape='ovr', degree=3, gamma='auto_deprecated',\n",
       "  kernel='linear', max_iter=-1, probability=False, random_state=None,\n",
       "  shrinking=True, tol=0.001, verbose=False)"
      ]
     },
     "execution_count": 95,
     "metadata": {},
     "output_type": "execute_result"
    }
   ],
   "source": [
    "from sklearn.svm import SVC  \n",
    "svclassifier = SVC(kernel='linear')  \n",
    "svclassifier.fit(X_train, y_train)"
   ]
  },
  {
   "cell_type": "markdown",
   "metadata": {},
   "source": [
    "## Naive Bayes "
   ]
  },
  {
   "cell_type": "code",
   "execution_count": 101,
   "metadata": {
    "ExecuteTime": {
     "end_time": "2019-04-11T22:24:20.261848Z",
     "start_time": "2019-04-11T22:24:19.878089Z"
    }
   },
   "outputs": [],
   "source": [
    "#Import Gaussian Naive Bayes model\n",
    "from sklearn.naive_bayes import GaussianNB\n",
    "\n",
    "#Create a Gaussian Classifier\n",
    "gnb = GaussianNB()\n",
    "\n",
    "#Train the model using the training sets\n",
    "gnb.fit(X_train, y_train)\n",
    "\n",
    "#Predict the response for test dataset\n",
    "y_pred = gnb.predict(X_test)"
   ]
  },
  {
   "cell_type": "markdown",
   "metadata": {},
   "source": [
    "## Making Predictions\n"
   ]
  },
  {
   "cell_type": "code",
   "execution_count": 97,
   "metadata": {
    "ExecuteTime": {
     "end_time": "2019-04-11T22:17:08.935981Z",
     "start_time": "2019-04-11T22:17:08.915971Z"
    }
   },
   "outputs": [],
   "source": [
    "y_pred = svclassifier.predict(X_test)  \n"
   ]
  },
  {
   "cell_type": "markdown",
   "metadata": {
    "ExecuteTime": {
     "end_time": "2019-04-04T15:59:51.078413Z",
     "start_time": "2019-04-04T15:59:51.075425Z"
    }
   },
   "source": [
    "\n",
    "# Determine Performance Metrics\n"
   ]
  },
  {
   "cell_type": "code",
   "execution_count": 102,
   "metadata": {
    "ExecuteTime": {
     "end_time": "2019-04-11T22:24:40.657656Z",
     "start_time": "2019-04-11T22:24:40.652671Z"
    }
   },
   "outputs": [
    {
     "name": "stdout",
     "output_type": "stream",
     "text": [
      "Accuracy: 1.0\n"
     ]
    }
   ],
   "source": [
    "#Import scikit-learn metrics module for accuracy calculation\n",
    "from sklearn import metrics\n",
    "\n",
    "# Model Accuracy, how often is the classifier correct?\n",
    "print(\"Accuracy:\",metrics.accuracy_score(y_test, y_pred))"
   ]
  },
  {
   "cell_type": "code",
   "execution_count": 98,
   "metadata": {
    "ExecuteTime": {
     "end_time": "2019-04-11T22:17:12.835852Z",
     "start_time": "2019-04-11T22:17:12.806833Z"
    }
   },
   "outputs": [
    {
     "name": "stdout",
     "output_type": "stream",
     "text": [
      "[[    9     0]\n",
      " [    0 14991]]\n",
      "              precision    recall  f1-score   support\n",
      "\n",
      "         0.0       1.00      1.00      1.00         9\n",
      "         1.0       1.00      1.00      1.00     14991\n",
      "\n",
      "   micro avg       1.00      1.00      1.00     15000\n",
      "   macro avg       1.00      1.00      1.00     15000\n",
      "weighted avg       1.00      1.00      1.00     15000\n",
      "\n"
     ]
    }
   ],
   "source": [
    "from sklearn.metrics import classification_report, confusion_matrix  \n",
    "print(confusion_matrix(y_test,y_pred))  \n",
    "print(classification_report(y_test,y_pred))  "
   ]
  },
  {
   "cell_type": "markdown",
   "metadata": {},
   "source": [
    "## Accuracy "
   ]
  },
  {
   "cell_type": "code",
   "execution_count": 99,
   "metadata": {
    "ExecuteTime": {
     "end_time": "2019-04-11T22:17:18.382134Z",
     "start_time": "2019-04-11T22:17:18.376113Z"
    }
   },
   "outputs": [
    {
     "name": "stdout",
     "output_type": "stream",
     "text": [
      "Accuracy: 1.0\n"
     ]
    }
   ],
   "source": [
    "#Import scikit-learn metrics module for accuracy calculation\n",
    "from sklearn import metrics\n",
    "\n",
    "# Model Accuracy: how often is the classifier correct?\n",
    "print(\"Accuracy:\",metrics.accuracy_score(y_test, y_pred))"
   ]
  },
  {
   "cell_type": "markdown",
   "metadata": {},
   "source": [
    "## Model Precision"
   ]
  },
  {
   "cell_type": "code",
   "execution_count": 100,
   "metadata": {
    "ExecuteTime": {
     "end_time": "2019-04-11T22:17:20.239098Z",
     "start_time": "2019-04-11T22:17:20.226094Z"
    }
   },
   "outputs": [
    {
     "name": "stdout",
     "output_type": "stream",
     "text": [
      "Precision: 1.0\n",
      "Recall: 1.0\n"
     ]
    }
   ],
   "source": [
    "# Model Precision: what percentage of positive tuples are labeled as such?\n",
    "print(\"Precision:\",metrics.precision_score(y_test, y_pred))\n",
    "\n",
    "# Model Recall: what percentage of positive tuples are labelled as such?\n",
    "print(\"Recall:\",metrics.recall_score(y_test, y_pred))"
   ]
  },
  {
   "cell_type": "markdown",
   "metadata": {},
   "source": [
    "# Improve Model if Necessary\n"
   ]
  },
  {
   "cell_type": "markdown",
   "metadata": {},
   "source": [
    "# Interpret Model and Report Results\n"
   ]
  },
  {
   "cell_type": "markdown",
   "metadata": {},
   "source": [
    "At this point, we know our model is good, but it’s pretty much a black box. We feed in some Numpy arrays for training, ask it to make a , evaluate the classification, and see that they are reasonable."
   ]
  },
  {
   "cell_type": "markdown",
   "metadata": {
    "ExecuteTime": {
     "end_time": "2019-04-08T21:36:52.907161Z",
     "start_time": "2019-04-08T21:36:52.573081Z"
    }
   },
   "source": [
    "\n",
    "\n",
    "<img src= \"https://cdn-images-1.medium.com/max/800/0*IWLWbvl2xUJLD-va.png\" width=\"700\"  />"
   ]
  }
 ],
 "metadata": {
  "kernelspec": {
   "display_name": "Python 3",
   "language": "python",
   "name": "python3"
  },
  "toc": {
   "base_numbering": 1,
   "nav_menu": {},
   "number_sections": true,
   "sideBar": true,
   "skip_h1_title": false,
   "title_cell": "Table of Contents",
   "title_sidebar": "Contents",
   "toc_cell": false,
   "toc_position": {
    "height": "calc(100% - 180px)",
    "left": "10px",
    "top": "150px",
    "width": "165px"
   },
   "toc_section_display": true,
   "toc_window_display": true
  },
  "varInspector": {
   "cols": {
    "lenName": 16,
    "lenType": 16,
    "lenVar": 40
   },
   "kernels_config": {
    "python": {
     "delete_cmd_postfix": "",
     "delete_cmd_prefix": "del ",
     "library": "var_list.py",
     "varRefreshCmd": "print(var_dic_list())"
    },
    "r": {
     "delete_cmd_postfix": ") ",
     "delete_cmd_prefix": "rm(",
     "library": "var_list.r",
     "varRefreshCmd": "cat(var_dic_list()) "
    }
   },
   "types_to_exclude": [
    "module",
    "function",
    "builtin_function_or_method",
    "instance",
    "_Feature"
   ],
   "window_display": false
  }
 },
 "nbformat": 4,
 "nbformat_minor": 2
}
